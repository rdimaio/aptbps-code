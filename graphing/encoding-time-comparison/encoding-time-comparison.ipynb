{
 "cells": [
  {
   "cell_type": "code",
   "execution_count": 1,
   "metadata": {},
   "outputs": [],
   "source": [
    "import numpy as np\n",
    "import os\n",
    "import sys\n",
    "import multiprocessing\n",
    "import time\n",
    "\n",
    "# PyTorch dependencies\n",
    "import torch as pt\n",
    "\n",
    "import aptbps\n",
    "import bps\n",
    "from modelnet40 import load_modelnet40 # local dependency from bps demos\n",
    "import matplotlib.pyplot as plt"
   ]
  },
  {
   "cell_type": "code",
   "execution_count": 2,
   "metadata": {},
   "outputs": [
    {
     "name": "stdout",
     "output_type": "stream",
     "text": [
      "GPU device found...\n"
     ]
    }
   ],
   "source": [
    "# Modify as needed\n",
    "MAIN_PATH = os.path.join('aptbps-code')\n",
    "MOD40_PATH = os.path.join(MAIN_PATH, 'modelnet40')\n",
    "LOGS_PATH = os.path.join(MOD40_PATH, 'logs')\n",
    "DATA_PATH = os.path.join(MOD40_PATH, 'data')\n",
    "BPS_CACHE_FILE = os.path.join(DATA_PATH, 'bps_mlp_data.npz')\n",
    "APTBPS_CACHE_FILE = os.path.join(DATA_PATH, 'aptbps_mlp_data.npz')\n",
    "\n",
    "if not os.path.exists(LOGS_PATH):\n",
    "    os.makedirs(LOGS_PATH)"
   ]
  },
  {
   "cell_type": "code",
   "execution_count": 3,
   "metadata": {},
   "outputs": [
    {
     "name": "stdout",
     "output_type": "stream",
     "text": [
      "loading ModelNet40 point clouds...\n",
      "loaded 9840 training and 2468 test samples.\n"
     ]
    }
   ],
   "source": [
    "# Load point clouds from ModelNet40\n",
    "xtr, ytr, xte, yte = load_modelnet40(root_data_dir=DATA_PATH)\n",
    "\n",
    "# Normalize point clouds\n",
    "xtr_normalized = bps.normalize(xtr)"
   ]
  },
  {
   "cell_type": "code",
   "execution_count": 8,
   "metadata": {},
   "outputs": [],
   "source": [
    "# Take a sample of 100 clouds from the training dataset\n",
    "np.random.seed(13)\n",
    "xtr_sample = xtr_normalized[np.random.randint(0, xtr_normalized.shape[0], 100)]"
   ]
  },
  {
   "cell_type": "code",
   "execution_count": 9,
   "metadata": {},
   "outputs": [
    {
     "data": {
      "text/plain": [
       "(100, 2048, 3)"
      ]
     },
     "execution_count": 9,
     "metadata": {},
     "output_type": "execute_result"
    }
   ],
   "source": [
    "xtr_sample.shape"
   ]
  },
  {
   "cell_type": "markdown",
   "metadata": {},
   "source": [
    "All tests are done single-threaded, collecting the CPU time."
   ]
  },
  {
   "cell_type": "code",
   "execution_count": 10,
   "metadata": {},
   "outputs": [
    {
     "name": "stdout",
     "output_type": "stream",
     "text": [
      "iteration n. 0\n",
      "iteration n. 20\n",
      "iteration n. 40\n",
      "iteration n. 60\n",
      "iteration n. 80\n",
      "iteration n. 100\n",
      "iteration n. 120\n",
      "iteration n. 140\n",
      "iteration n. 160\n",
      "iteration n. 180\n",
      "iteration n. 200\n",
      "iteration n. 220\n",
      "iteration n. 240\n",
      "iteration n. 260\n",
      "iteration n. 280\n",
      "iteration n. 300\n",
      "iteration n. 320\n",
      "iteration n. 340\n",
      "iteration n. 360\n",
      "iteration n. 380\n",
      "iteration n. 400\n",
      "iteration n. 420\n",
      "iteration n. 440\n",
      "iteration n. 460\n",
      "iteration n. 480\n",
      "iteration n. 500\n",
      "iteration n. 520\n",
      "iteration n. 540\n",
      "iteration n. 560\n",
      "iteration n. 580\n",
      "iteration n. 600\n",
      "iteration n. 620\n",
      "iteration n. 640\n",
      "iteration n. 660\n",
      "iteration n. 680\n",
      "iteration n. 700\n",
      "iteration n. 720\n",
      "iteration n. 740\n",
      "iteration n. 760\n",
      "iteration n. 780\n",
      "iteration n. 800\n",
      "iteration n. 820\n",
      "iteration n. 840\n",
      "iteration n. 860\n",
      "iteration n. 880\n",
      "iteration n. 900\n",
      "iteration n. 920\n",
      "iteration n. 940\n",
      "iteration n. 960\n",
      "iteration n. 980\n",
      "mean bps time: 0.18784678974599925\n"
     ]
    }
   ],
   "source": [
    "bps_times = []\n",
    "N_ITERATIONS = 1000\n",
    "for i in range (0, N_ITERATIONS):\n",
    "    if i % 20 == 0:\n",
    "        print(\"iteration n. \" + str(i))\n",
    "    start = time.process_time()\n",
    "    xtr_bps = aptbps.adaptive_encode(xtr_sample, n_parts=1, verbose=False, n_jobs=1)\n",
    "    end = time.process_time()\n",
    "    total_training_time = (end - start)\n",
    "    bps_times.append(total_training_time)\n",
    "mean_bps_time = np.mean(bps_times)\n",
    "print(\"mean bps time: \" + str(mean_bps_time))"
   ]
  },
  {
   "cell_type": "code",
   "execution_count": 15,
   "metadata": {},
   "outputs": [
    {
     "name": "stdout",
     "output_type": "stream",
     "text": [
      "iteration n. 0\n",
      "iteration n. 20\n",
      "iteration n. 40\n",
      "iteration n. 60\n",
      "iteration n. 80\n",
      "iteration n. 100\n",
      "iteration n. 120\n",
      "iteration n. 140\n",
      "iteration n. 160\n",
      "iteration n. 180\n",
      "iteration n. 200\n",
      "iteration n. 220\n",
      "iteration n. 240\n",
      "iteration n. 260\n",
      "iteration n. 280\n",
      "iteration n. 300\n",
      "iteration n. 320\n",
      "iteration n. 340\n",
      "iteration n. 360\n",
      "iteration n. 380\n",
      "iteration n. 400\n",
      "iteration n. 420\n",
      "iteration n. 440\n",
      "iteration n. 460\n",
      "iteration n. 480\n",
      "iteration n. 500\n",
      "iteration n. 520\n",
      "iteration n. 540\n",
      "iteration n. 560\n",
      "iteration n. 580\n",
      "iteration n. 600\n",
      "iteration n. 620\n",
      "iteration n. 640\n",
      "iteration n. 660\n",
      "iteration n. 680\n",
      "iteration n. 700\n",
      "iteration n. 720\n",
      "iteration n. 740\n",
      "iteration n. 760\n",
      "iteration n. 780\n",
      "iteration n. 800\n",
      "iteration n. 820\n",
      "iteration n. 840\n",
      "iteration n. 860\n",
      "iteration n. 880\n",
      "iteration n. 900\n",
      "iteration n. 920\n",
      "iteration n. 940\n",
      "iteration n. 960\n",
      "iteration n. 980\n",
      "mean fftkde aptbps time: 0.6485394895859975\n"
     ]
    }
   ],
   "source": [
    "fftkde_aptbps_times = []\n",
    "N_ITERATIONS = 1000\n",
    "for i in range (0, N_ITERATIONS):\n",
    "    if i % 20 == 0:\n",
    "        print(\"iteration n. \" + str(i))\n",
    "    start = time.process_time()\n",
    "    # triangle-fftkde\n",
    "    xtr_fftkde_aptbps = aptbps.adaptive_encode(xtr_sample, kde='fft', n_parts=2, verbose=False, n_jobs=1)\n",
    "    end = time.process_time()\n",
    "    total_training_time = (end - start)\n",
    "    fftkde_aptbps_times.append(total_training_time)\n",
    "mean_fftkde_aptbps_time = np.mean(fftkde_aptbps_times)\n",
    "print(\"mean fftkde aptbps time: \" + str(mean_fftkde_aptbps_time))"
   ]
  },
  {
   "cell_type": "code",
   "execution_count": 16,
   "metadata": {},
   "outputs": [
    {
     "name": "stdout",
     "output_type": "stream",
     "text": [
      "iteration n. 0\n",
      "iteration n. 20\n",
      "iteration n. 40\n",
      "iteration n. 60\n",
      "iteration n. 80\n",
      "iteration n. 100\n",
      "iteration n. 120\n",
      "iteration n. 140\n",
      "iteration n. 160\n",
      "iteration n. 180\n",
      "iteration n. 200\n",
      "iteration n. 220\n",
      "iteration n. 240\n",
      "iteration n. 260\n",
      "iteration n. 280\n",
      "iteration n. 300\n",
      "iteration n. 320\n",
      "iteration n. 340\n",
      "iteration n. 360\n",
      "iteration n. 380\n",
      "iteration n. 400\n",
      "iteration n. 420\n",
      "iteration n. 440\n",
      "iteration n. 460\n",
      "iteration n. 480\n",
      "iteration n. 500\n",
      "iteration n. 520\n",
      "iteration n. 540\n",
      "iteration n. 560\n",
      "iteration n. 580\n",
      "iteration n. 600\n",
      "iteration n. 620\n",
      "iteration n. 640\n",
      "iteration n. 660\n",
      "iteration n. 680\n",
      "iteration n. 700\n",
      "iteration n. 720\n",
      "iteration n. 740\n",
      "iteration n. 760\n",
      "iteration n. 780\n",
      "iteration n. 800\n",
      "iteration n. 820\n",
      "iteration n. 840\n",
      "iteration n. 860\n",
      "iteration n. 880\n",
      "iteration n. 900\n",
      "iteration n. 920\n",
      "iteration n. 940\n",
      "iteration n. 960\n",
      "iteration n. 980\n",
      "mean gaussian kde aptbps time: 17.71632170351896\n"
     ]
    }
   ],
   "source": [
    "gkde_aptbps_times = []\n",
    "N_ITERATIONS = 1000\n",
    "for i in range (0, N_ITERATIONS):\n",
    "    if i % 20 == 0:\n",
    "        print(\"iteration n. \" + str(i))\n",
    "    start = time.process_time()\n",
    "    # triangle-gkde\n",
    "    xtr_gkde_aptbps = aptbps.adaptive_encode(xtr_sample, n_parts=2, verbose=False, n_jobs=1)\n",
    "    end = time.process_time()\n",
    "    total_training_time = (end - start)\n",
    "    gkde_aptbps_times.append(total_training_time)\n",
    "mean_gkde_aptbps_time = np.mean(gkde_aptbps_times)\n",
    "print(\"mean gaussian kde aptbps time: \" + str(mean_gkde_aptbps_time))"
   ]
  },
  {
   "cell_type": "code",
   "execution_count": 61,
   "metadata": {},
   "outputs": [
    {
     "name": "stdout",
     "output_type": "stream",
     "text": [
      "0.09248776022151502 0.017205025944769876 0.0019620951073589525\n"
     ]
    }
   ],
   "source": [
    "# Calculate standard deviations\n",
    "gkde_std = np.std(gkde_aptbps_times)\n",
    "fftkde_std = np.std(fftkde_aptbps_times)\n",
    "bps_std = np.std(bps_times)\n",
    "print(gkde_std, fftkde_std, bps_std)"
   ]
  },
  {
   "cell_type": "code",
   "execution_count": 112,
   "metadata": {},
   "outputs": [],
   "source": [
    "# Save data\n",
    "np.savetxt(\"bps_encoding_times.csv\", bps_times, delimiter=',', header='')\n",
    "np.savetxt(\"gkde_aptbps_encoding_times.csv\", gkde_aptbps_times, delimiter=',', header='')\n",
    "np.savetxt(\"fftkde_aptbps_encoding_times.csv\", fftkde_aptbps_times, delimiter=',', header='')"
   ]
  },
  {
   "cell_type": "code",
   "execution_count": 106,
   "metadata": {},
   "outputs": [
    {
     "data": {
      "text/plain": [
       "Text(0.5, 3.3999999999999986, 'Encoding method')"
      ]
     },
     "execution_count": 106,
     "metadata": {},
     "output_type": "execute_result"
    },
    {
     "data": {
      "image/png": "[encoded data removed]",
      "text/plain": [
       "<Figure size 432x288 with 1 Axes>"
      ]
     },
     "metadata": {
      "needs_background": "light"
     },
     "output_type": "display_data"
    }
   ],
   "source": [
    "fig, ax = plt.subplots()\n",
    "ax.bar([\"Gaussian KDE\\nAPTBPS\", \"FFT KDE\\nAPTBPS\", \"BPS\"], \n",
    "       [mean_gkde_aptbps_time,mean_fftkde_aptbps_time,mean_bps_time], \n",
    "       yerr=[5*gkde_std, 5*fftkde_std, 5*bps_std], \n",
    "       error_kw={'label': '$5\\sigma$', 'capsize': 5})\n",
    "\n",
    "ax.set_title(\"Mean encoding process time over 1000 iterations\", weight='bold')\n",
    "ax.set_yscale(\"log\")\n",
    "ax.set_axisbelow(True)\n",
    "ax.yaxis.grid(True, color='#EEEEEE')\n",
    "ax.legend()\n",
    "fig.tight_layout()\n",
    "ax.set_ylabel(\"time (s) | log scale\")\n",
    "ax.set_xlabel(\"Encoding method\")"
   ]
  },
  {
   "cell_type": "code",
   "execution_count": 113,
   "metadata": {},
   "outputs": [],
   "source": [
    "fig.savefig('encoding-time-comparison.svg')"
   ]
  },
  {
   "cell_type": "code",
   "execution_count": 115,
   "metadata": {},
   "outputs": [
    {
     "name": "stdout",
     "output_type": "stream",
     "text": [
      "bps mean: 0.18784678974599925\n",
      "bps std: 0.0019620951073589525\n",
      "gkde aptbps mean: 17.71632170351896\n",
      "gkde aptbps std: 0.09248776022151502\n",
      "bps mean: 0.6485394895859975\n",
      "bps std: 0.017205025944769876\n"
     ]
    }
   ],
   "source": [
    "# Values:\n",
    "print(\"bps mean: \" + str(mean_bps_time))\n",
    "print(\"bps std: \" + str(bps_std))\n",
    "\n",
    "print(\"gkde aptbps mean: \" + str(mean_gkde_aptbps_time))\n",
    "print(\"gkde aptbps std: \" + str(gkde_std))\n",
    "\n",
    "print(\"bps mean: \" + str(mean_fftkde_aptbps_time))\n",
    "print(\"bps std: \" + str(fftkde_std))"
   ]
  }
 ],
 "metadata": {
  "kernelspec": {
   "display_name": "Python 3",
   "language": "python",
   "name": "python3"
  },
  "language_info": {
   "codemirror_mode": {
    "name": "ipython",
    "version": 3
   },
   "file_extension": ".py",
   "mimetype": "text/x-python",
   "name": "python",
   "nbconvert_exporter": "python",
   "pygments_lexer": "ipython3",
   "version": "3.8.1"
  }
 },
 "nbformat": 4,
 "nbformat_minor": 4
}
