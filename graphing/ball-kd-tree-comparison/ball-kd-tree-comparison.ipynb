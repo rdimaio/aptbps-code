{
 "cells": [
  {
   "cell_type": "markdown",
   "metadata": {},
   "source": [
    "# Objective\n",
    "Comparing kd-tree and ball tree in nearest neighbours search, as well as tuning the leaf_size parameter to speed up APTBPS as much as possible."
   ]
  },
  {
   "cell_type": "code",
   "execution_count": 1,
   "metadata": {},
   "outputs": [],
   "source": [
    "import pandas as pd\n",
    "import numpy as np\n",
    "import multiprocessing\n",
    "\n",
    "from bps import bps\n",
    "import aptbps\n",
    "import os\n",
    "from tqdm import tqdm\n",
    "import h5py"
   ]
  },
  {
   "cell_type": "code",
   "execution_count": 73,
   "metadata": {},
   "outputs": [],
   "source": [
    "# Modify as needed\n",
    "MAIN_PATH = os.path.join('aptbps-code')\n",
    "LOGS_PATH = os.path.join(MAIN_PATH, 'logs')\n",
    "DATA_PATH = os.path.join(MAIN_PATH, 'data')\n",
    "\n",
    "TRAIN_PATH = os.path.join(DATA_PATH, 'train')\n",
    "HDF5_PATH = os.path.join(DATA_PATH, 'hdf5')\n",
    "NO_UNLABELED_H5_PATH = os.path.join(DATA_PATH, 'no_unlabeled_hdf5')\n",
    "HDF5_TRAIN_PATH = os.path.join(HDF5_PATH, 'train')\n",
    "ENCODED_HDF5_PATH = os.path.join(DATA_PATH, 'tree_encoded_hdf5')\n",
    "\n",
    "# All the clouds in the training dataset\n",
    "train_files = [\n",
    "    \"bildstein_station1_xyz_intensity_rgb\",\n",
    "    \"bildstein_station3_xyz_intensity_rgb\",\n",
    "    \"bildstein_station5_xyz_intensity_rgb\",\n",
    "    \"domfountain_station1_xyz_intensity_rgb\",\n",
    "    \"domfountain_station2_xyz_intensity_rgb\",\n",
    "    \"domfountain_station3_xyz_intensity_rgb\",\n",
    "    \"neugasse_station1_xyz_intensity_rgb\",\n",
    "    \"sg27_station1_intensity_rgb\",\n",
    "    \"sg27_station2_intensity_rgb\",\n",
    "    \"sg27_station4_intensity_rgb\",\n",
    "    \"sg27_station5_intensity_rgb\",\n",
    "    \"sg27_station9_intensity_rgb\",\n",
    "    \"sg28_station4_intensity_rgb\",\n",
    "    \"untermaederbrunnen_station1_xyz_intensity_rgb\",\n",
    "    \"untermaederbrunnen_station3_xyz_intensity_rgb\",\n",
    "]"
   ]
  },
  {
   "cell_type": "code",
   "execution_count": 14,
   "metadata": {},
   "outputs": [],
   "source": [
    "# batch of 100 point clouds to convert\n",
    "x = np.random.normal(size=[10000, 4096, 3])\n",
    "\n",
    "# optional point cloud normalization to fit a unit sphere\n",
    "x_norm = bps.normalize(x)"
   ]
  },
  {
   "cell_type": "code",
   "execution_count": 23,
   "metadata": {},
   "outputs": [
    {
     "name": "stdout",
     "output_type": "stream",
     "text": [
      "using 12 available CPUs for BPS encoding..\n"
     ]
    },
    {
     "name": "stderr",
     "output_type": "stream",
     "text": [
      " 73%|███████▎  | 608/833 [00:05<00:02, 101.22it/s]\n",
      "100%|██████████| 834/834 [00:07<00:00, 104.44it/s]\n",
      "100%|██████████| 834/834 [00:07<00:00, 105.20it/s]\n",
      "100%|██████████| 834/834 [00:07<00:00, 104.55it/s]\n",
      "100%|██████████| 833/833 [00:07<00:00, 105.53it/s]\n",
      "100%|██████████| 833/833 [00:07<00:00, 106.55it/s]\n",
      "100%|██████████| 833/833 [00:07<00:00, 105.15it/s]\n",
      "100%|██████████| 833/833 [00:07<00:00, 106.05it/s]\n",
      "100%|██████████| 833/833 [00:07<00:00, 107.15it/s]\n",
      "100%|██████████| 833/833 [00:07<00:00, 110.62it/s]\n",
      "100%|██████████| 833/833 [00:07<00:00, 106.92it/s]\n",
      "100%|██████████| 833/833 [00:07<00:00, 110.15it/s]\n"
     ]
    }
   ],
   "source": [
    "# option 1: encode with 1024 random basis and distances as features\n",
    "x_bps_random = bps.encode(x_norm, bps_arrangement='random', n_bps_points=2048, bps_cell_type='dists', nn_algo='kd_tree', leaf_size=30)"
   ]
  },
  {
   "cell_type": "code",
   "execution_count": 3,
   "metadata": {},
   "outputs": [
    {
     "name": "stdout",
     "output_type": "stream",
     "text": [
      "Populating the interactive namespace from numpy and matplotlib\n"
     ]
    }
   ],
   "source": [
    "%pylab inline"
   ]
  },
  {
   "cell_type": "code",
   "execution_count": 18,
   "metadata": {},
   "outputs": [],
   "source": [
    "from time import time\n",
    "from sklearn.neighbors import KDTree, BallTree"
   ]
  },
  {
   "cell_type": "code",
   "execution_count": 136,
   "metadata": {},
   "outputs": [],
   "source": [
    "BPS_POINTS = 512\n",
    "\n",
    "f_ext = train_files[0] + '.h5'\n",
    "no_unlabeled_f_path = os.path.join(NO_UNLABELED_H5_PATH, f_ext)\n",
    "with pd.HDFStore(no_unlabeled_f_path, compression='lz4', mode='r') as store2:\n",
    "        \n",
    "    # Selecting columns (like you would do with the command below) doesn't work.\n",
    "    # This is because the HDFStore was created with the 'fixed' format, which doesn't allow select but has faster read/write performance.\n",
    "    # 'table' format would allow selection. Source: https://pandas.pydata.org/pandas-docs/stable/reference/api/pandas.DataFrame.to_hdf.html\n",
    "    #test = pd.DataFrame(store2.select(key=\"0\", columns=[\"x\", \"y\", \"z\"]))\n",
    "        \n",
    "        # Due to this, we must first retrieve the store in its entirety.\n",
    "    df = store2.get('0')\n",
    "    \n",
    "        # Select the xyz columns only for normalization\n",
    "    df2 = df[['x','y','z']]\n",
    "        \n",
    "        \n",
    "        # Convert to np array\n",
    "    df_np = df2.to_numpy()\n",
    "        \n",
    "        # Add extra dimension to match the requirements of the bps library\n",
    "    df_np = df_np[np.newaxis, :]\n",
    "        \n",
    "        # There's no need to reshape again, as I'm adding the newaxis before the other dims (so it becomes 1, n_points, 3)\n",
    "        # However, just to make sure, I reshape it\n",
    "    df_np = df_np.reshape(1, -1, 3)\n",
    "        \n",
    "        # Normalize cloud\n",
    "        # Normalization must be done on the full cloud.\n",
    "    df_np = bps.normalize(df_np)\n",
    "        \n",
    "        # -- DIVIDING ARRAY INTO TWO ARRAYS OF SIZE ~2048\n",
    "        # To speed up BPS encoding, we can merge this list into two np arrays.\n",
    "        # To obtain even data, we split each cloud into subclouds of ~2048;\n",
    "        # Each 2048 subcloud is then bps-encoded to 512 points.\n",
    "        \n",
    "    n_points = df_np.shape[1]\n",
    "    cloud_points = 2048\n",
    "        \n",
    "    # Remove extra dimension\n",
    "    df_np = np.squeeze(df_np)\n",
    "        \n",
    "    # Floor division\n",
    "    n_divisions = n_points//cloud_points\n",
    "        \n",
    "    # np.array_split returns l % n sub-arrays of size l//n + 1 and the rest of size l//n.\n",
    "    # This means that the split index to achieve this is split_idx must be equal to (l%n * l//n+1)\n",
    "    split_idx = (n_points % n_divisions) * (cloud_points + 1)\n",
    "        \n",
    "    arr1, arr2 = np.split(df_np, [split_idx])\n",
    "    \n",
    "    # Add extra dimension to hold the n. of clouds\n",
    "    arr1 = arr1[np.newaxis, :]\n",
    "    arr2 = arr2[np.newaxis, :]\n",
    "\n",
    "    # Reshape to have n. of clouds as first dimension\n",
    "    arr1 = arr1.reshape(-1, cloud_points+1, 3)\n",
    "    arr2 = arr2.reshape(-1, cloud_points, 3)"
   ]
  },
  {
   "cell_type": "code",
   "execution_count": 59,
   "metadata": {},
   "outputs": [
    {
     "name": "stdout",
     "output_type": "stream",
     "text": [
      "(5000, 3)\n",
      "[[-0.01922129 -0.06629872 -0.00960033]\n",
      " [-0.01424609 -0.11741554 -0.00626518]\n",
      " [-0.05375045 -0.0695238  -0.01043686]\n",
      " ...\n",
      " [-0.01725102 -0.12582494 -0.00538462]\n",
      " [-0.05427879 -0.17798743 -0.00268789]\n",
      " [-0.03285904 -0.16590166 -0.00305112]]\n"
     ]
    }
   ],
   "source": [
    "# Pick random sample\n",
    "arr1 = arr1.reshape(-1, 3)\n",
    "rand_idx = np.random.choice(arr1.shape[0], 5000, replace=False)  \n",
    "rand_arr1 = arr1[rand_idx]"
   ]
  },
  {
   "cell_type": "code",
   "execution_count": 20,
   "metadata": {},
   "outputs": [],
   "source": [
    "from time import time\n",
    "\n",
    "def average_time(executable, *args, **kwargs):\n",
    "    \"\"\"Compute the average time over N runs\"\"\"\n",
    "    N = 5\n",
    "    t = 0\n",
    "    for i in range(N):\n",
    "        t0 = time()\n",
    "        res = executable(*args, **kwargs)\n",
    "        t1 = time()\n",
    "        t += (t1 - t0)\n",
    "    return res, t * 1. / N"
   ]
  },
  {
   "cell_type": "markdown",
   "metadata": {},
   "source": [
    "# Source for knn time comparison functions used [here](https://jakevdp.github.io/blog/2013/04/29/benchmarking-nearest-neighbor-searches-in-python/#Scaling-with-Leaf-Size)"
   ]
  },
  {
   "cell_type": "code",
   "execution_count": 21,
   "metadata": {},
   "outputs": [],
   "source": [
    "TREE_DICT = dict(KDTree=KDTree, BallTree=BallTree)\n",
    "colors = dict(KDTree='red', BallTree='blue', brute='gray', gaussian_kde='black')\n",
    "\n",
    "def bench_knn_query(tree_name, X, N, D, leaf_size, k,\n",
    "                    build_args=None, query_args=None):\n",
    "    \"\"\"Run benchmarks for the k-nearest neighbors query\"\"\"\n",
    "    Tree = TREE_DICT[tree_name]\n",
    "    \n",
    "    if build_args is None:\n",
    "        build_args = {}\n",
    "        \n",
    "    if query_args is None:\n",
    "        query_args = {}\n",
    "        \n",
    "    NDLk = np.broadcast(N, D, leaf_size, k)\n",
    "        \n",
    "    t_build = np.zeros(NDLk.size)\n",
    "    t_query = np.zeros(NDLk.size)\n",
    "    \n",
    "    for i, (N, D, leaf_size, k) in enumerate(NDLk):\n",
    "        XND = X[:N, :D]\n",
    "        \n",
    "        build_args['leaf_size'] = leaf_size\n",
    "        \n",
    "        tree, t_build[i] = average_time(Tree, XND, **build_args)\n",
    "        res, t_query[i] = average_time(tree.query, XND, k, **query_args)\n",
    "        \n",
    "    return t_build, t_query"
   ]
  },
  {
   "cell_type": "code",
   "execution_count": 68,
   "metadata": {},
   "outputs": [],
   "source": [
    "def plot_scaling(data, estimate_brute=False, suptitle='', **kwargs):\n",
    "    \"\"\"Plot the scaling comparisons for different tree types\"\"\"\n",
    "    # Find the iterable key\n",
    "    iterables = [key for (key, val) in kwargs.items() if hasattr(val, '__len__')]\n",
    "    if len(iterables) != 1:\n",
    "        raise ValueError(\"A single iterable argument must be specified\")\n",
    "    x_key = iterables[0]\n",
    "    x = kwargs[x_key]\n",
    "    \n",
    "    # Set some defaults\n",
    "    if 'N' not in kwargs:\n",
    "        kwargs['N'] = data.shape[0]\n",
    "    if 'D' not in kwargs:\n",
    "        kwargs['D'] = data.shape[1]\n",
    "    if 'leaf_size' not in kwargs:\n",
    "        kwargs['leaf_size'] = 15\n",
    "    if 'k' not in kwargs:\n",
    "        kwargs['k'] = 1\n",
    "    \n",
    "    fig, ax = plt.subplots(1, 2, figsize=(10, 4),\n",
    "                           subplot_kw=dict(yscale='log', xscale='log'))\n",
    "        \n",
    "    for tree_name in ['KDTree', 'BallTree']:\n",
    "        t_build, t_query = bench_knn_query(tree_name, data, **kwargs)\n",
    "        ax[0].plot(x, t_build, color=colors[tree_name], label=tree_name)\n",
    "        ax[1].plot(x, t_query, color=colors[tree_name], label=tree_name)\n",
    "        \n",
    "        t_build, t_query = bench_knn_query(tree_name, data,\n",
    "                                            query_args=dict(breadth_first=True, dualtree=True),\n",
    "                                            **kwargs)\n",
    "            \n",
    "    if estimate_brute:\n",
    "        Nmin = np.min(kwargs['N'])\n",
    "        Dmin = np.min(kwargs['D'])\n",
    "        kmin = np.min(kwargs['k'])\n",
    "        \n",
    "        # get a baseline brute force time by setting the leaf size large,\n",
    "        # ensuring a brute force calculation over the data\n",
    "        _, t0 = bench_knn_query('KDTree', data, N=Nmin, D=Dmin, leaf_size=2 * Nmin, k=kmin)\n",
    "        \n",
    "        # use the theoretical scaling: O[N^2 D]\n",
    "        if x_key == 'N':\n",
    "            exponent = 2\n",
    "        elif x_key == 'D':\n",
    "            exponent = 1\n",
    "        else:\n",
    "            exponent = 0\n",
    "            \n",
    "        t_brute = t0 * (np.array(x, dtype=float) / np.min(x)) ** exponent\n",
    "        ax[1].plot(x, t_brute, color=colors['brute'], label='brute force (est.)')\n",
    "            \n",
    "    for axi in ax:\n",
    "        axi.grid(True)\n",
    "        axi.set_xlabel(x_key)\n",
    "        axi.set_ylabel('time (s)')\n",
    "        axi.legend(loc='upper left')\n",
    "        axi.set_xlim(np.min(x), np.max(x))\n",
    "        \n",
    "    info_str = ', '.join([key + '={' + key + '}' for key in ['N', 'D', 'k'] if key != x_key])\n",
    "    ax[0].set_title('Tree Build Time ({0})'.format(info_str.format(**kwargs)))\n",
    "    ax[1].set_title('Tree Query Time ({0})'.format(info_str.format(**kwargs)))\n",
    "    \n",
    "    if suptitle:\n",
    "        fig.suptitle(suptitle, size=16)\n",
    "    \n",
    "    return fig, ax\n"
   ]
  },
  {
   "cell_type": "code",
   "execution_count": 69,
   "metadata": {},
   "outputs": [
    {
     "data": {
      "image/png": "[encoded data removed]",
      "text/plain": [
       "<Figure size 720x288 with 2 Axes>"
      ]
     },
     "metadata": {
      "needs_background": "light"
     },
     "output_type": "display_data"
    }
   ],
   "source": [
    "leaf_size = 2 ** np.arange(10)\n",
    "fig, ax = plot_scaling(rand_arr1, leaf_size=leaf_size, suptitle='bildstein_station1 (5000 point sample)')"
   ]
  },
  {
   "cell_type": "code",
   "execution_count": 74,
   "metadata": {},
   "outputs": [
    {
     "name": "stderr",
     "output_type": "stream",
     "text": [
      "The PostScript backend does not support transparency; partially transparent artists will be rendered opaque.\n",
      "The PostScript backend does not support transparency; partially transparent artists will be rendered opaque.\n",
      "The PostScript backend does not support transparency; partially transparent artists will be rendered opaque.\n",
      "The PostScript backend does not support transparency; partially transparent artists will be rendered opaque.\n"
     ]
    }
   ],
   "source": [
    "fig.savefig(os.path.join(LOGS_PATH, 'bps-leaf-size.svg'), format='svg', dpi=1200)\n",
    "fig.savefig(os.path.join(LOGS_PATH, 'bps-leaf-size.eps'), format='eps')"
   ]
  },
  {
   "cell_type": "markdown",
   "metadata": {},
   "source": [
    "# Checking results: sg27_station9\n",
    "Let's effectively check the results. We're going to compare the time it takes to bps encode sg27_station9_intensity_rgb at leaf=1 vs leaf=16."
   ]
  },
  {
   "cell_type": "code",
   "execution_count": 123,
   "metadata": {},
   "outputs": [],
   "source": [
    "from timeit import default_timer as timer\n",
    "import time"
   ]
  },
  {
   "cell_type": "code",
   "execution_count": 134,
   "metadata": {},
   "outputs": [
    {
     "name": "stdout",
     "output_type": "stream",
     "text": [
      "[41.818429360864684, 42.02015702310018, 42.066062551923096, 42.1814090909902, 42.92274543410167]\n",
      "42.20176069219597\n"
     ]
    }
   ],
   "source": [
    "times = []\n",
    "for i in range(0,5):\n",
    "    start = timer()\n",
    "    bps.encode(arr1, n_bps_points=BPS_POINTS, radius=1.5, verbose=False, nn_algo='ball_tree', leaf_size=1)\n",
    "    bps.encode(arr2, n_bps_points=BPS_POINTS, radius=1.5, verbose=False, nn_algo='ball_tree', leaf_size=1)\n",
    "    end = timer()\n",
    "    times.append(end-start)\n",
    "print(times)\n",
    "avg_time = 0\n",
    "for i in range(0,5):\n",
    "    avg_time += times[i]\n",
    "avg_time = avg_time/5\n",
    "print(avg_time)"
   ]
  },
  {
   "cell_type": "code",
   "execution_count": 135,
   "metadata": {},
   "outputs": [
    {
     "name": "stdout",
     "output_type": "stream",
     "text": [
      "[35.85178986284882, 34.48062887578271, 35.08722396497615, 35.725946560967714, 35.83680191705935]\n",
      "35.39647823632695\n"
     ]
    }
   ],
   "source": [
    "times = []\n",
    "for i in range(0,5):\n",
    "    start = timer()\n",
    "    bps.encode(arr1, n_bps_points=BPS_POINTS, radius=1.5, verbose=False, nn_algo='kd_tree', leaf_size=16)\n",
    "    bps.encode(arr2, n_bps_points=BPS_POINTS, radius=1.5, verbose=False, nn_algo='kd_tree', leaf_size=16)\n",
    "    end = timer()\n",
    "    times.append(end-start)\n",
    "print(times)\n",
    "avg_time = 0\n",
    "for i in range(0,5):\n",
    "    avg_time += times[i]\n",
    "avg_time = avg_time/5\n",
    "print(avg_time)"
   ]
  },
  {
   "cell_type": "markdown",
   "metadata": {},
   "source": [
    "# Checking results: bildstein_station1 (averaged over 20 iterations)"
   ]
  },
  {
   "cell_type": "code",
   "execution_count": 139,
   "metadata": {},
   "outputs": [
    {
     "name": "stdout",
     "output_type": "stream",
     "text": [
      "[2.3427306720986962, 2.2661423650570214, 2.266511157853529, 2.279394911136478, 2.3241101058665663, 2.3312874529510736, 2.2917329219635576, 2.2609258559532464, 2.256915651028976, 2.288164123892784, 2.2967502831015736, 2.233449926832691, 2.2453691149130464, 2.2385345499496907, 2.250426970887929, 2.2317263369914144, 2.219952041981742, 2.2409880249761045, 2.2481608390808105, 2.242741033202037]\n",
      "2.295777842402458\n"
     ]
    }
   ],
   "source": [
    "times = []\n",
    "for i in range(0,20):\n",
    "    start = timer()\n",
    "    bps.encode(arr1, n_bps_points=BPS_POINTS, radius=1.5, verbose=False, nn_algo='ball_tree', leaf_size=1)\n",
    "    bps.encode(arr2, n_bps_points=BPS_POINTS, radius=1.5, verbose=False, nn_algo='ball_tree', leaf_size=1)\n",
    "    end = timer()\n",
    "    times.append(end-start)\n",
    "print(times)\n",
    "avg_time = 0\n",
    "for i in range(0,5):\n",
    "    avg_time += times[i]\n",
    "avg_time = avg_time/5\n",
    "print(avg_time)"
   ]
  },
  {
   "cell_type": "code",
   "execution_count": 140,
   "metadata": {},
   "outputs": [
    {
     "name": "stdout",
     "output_type": "stream",
     "text": [
      "[2.4182888460345566, 2.4171240099240094, 2.4179588488768786, 2.347548616118729, 2.423116086050868, 2.43389923684299, 2.391496372874826, 2.4205915951170027, 2.4045747600030154, 2.3938341338653117, 2.435899621108547, 2.439041820121929, 2.435716386884451, 2.3905664042104036, 2.379956719931215, 2.426694389199838, 2.4892427530139685, 2.5328544408548623, 2.495426671113819, 2.4771515149623156]\n",
      "2.404807281401008\n"
     ]
    }
   ],
   "source": [
    "times = []\n",
    "for i in range(0,20):\n",
    "    start = timer()\n",
    "    bps.encode(arr1, n_bps_points=BPS_POINTS, radius=1.5, verbose=False, nn_algo='kd_tree', leaf_size=1)\n",
    "    bps.encode(arr2, n_bps_points=BPS_POINTS, radius=1.5, verbose=False, nn_algo='kd_tree', leaf_size=1)\n",
    "    end = timer()\n",
    "    times.append(end-start)\n",
    "print(times)\n",
    "avg_time = 0\n",
    "for i in range(0,5):\n",
    "    avg_time += times[i]\n",
    "avg_time = avg_time/5\n",
    "print(avg_time)"
   ]
  },
  {
   "cell_type": "code",
   "execution_count": 141,
   "metadata": {},
   "outputs": [
    {
     "name": "stdout",
     "output_type": "stream",
     "text": [
      "[2.0075941239483654, 2.077341122087091, 2.1250208530109376, 2.091560506960377, 2.113582919118926, 2.0947005818597972, 2.0967436619102955, 2.104548803064972, 2.070091071072966, 2.0791625229176134, 2.0867732111364603, 2.0550727788358927, 2.0701187250670046, 2.080479715950787, 2.047789068194106, 2.0930202200543135, 2.0767735987901688, 2.0759532109368593, 2.084595530992374, 2.1011007111519575]\n",
      "2.0830199050251395\n"
     ]
    }
   ],
   "source": [
    "times = []\n",
    "for i in range(0,20):\n",
    "    start = timer()\n",
    "    bps.encode(arr1, n_bps_points=BPS_POINTS, radius=1.5, verbose=False, nn_algo='ball_tree', leaf_size=16)\n",
    "    bps.encode(arr2, n_bps_points=BPS_POINTS, radius=1.5, verbose=False, nn_algo='ball_tree', leaf_size=16)\n",
    "    end = timer()\n",
    "    times.append(end-start)\n",
    "print(times)\n",
    "avg_time = 0\n",
    "for i in range(0,5):\n",
    "    avg_time += times[i]\n",
    "avg_time = avg_time/5\n",
    "print(avg_time)"
   ]
  },
  {
   "cell_type": "code",
   "execution_count": 142,
   "metadata": {},
   "outputs": [
    {
     "name": "stdout",
     "output_type": "stream",
     "text": [
      "[1.9751061259303242, 2.0136518999934196, 1.9762429888360202, 2.0097493259236217, 1.9591637789271772, 1.9342948058620095, 2.0036214070860296, 2.0368649850133806, 1.999724600929767, 1.9738658689893782, 1.9157133279368281, 1.9450246698688716, 1.9497118359431624, 1.9476312699262053, 1.9598961670417339, 1.9375844851601869, 1.956747846212238, 1.9631553920917213, 1.944332828046754, 1.9777503449004143]\n",
      "1.9867828239221126\n"
     ]
    }
   ],
   "source": [
    "times = []\n",
    "for i in range(0,20):\n",
    "    start = timer()\n",
    "    bps.encode(arr1, n_bps_points=BPS_POINTS, radius=1.5, verbose=False, nn_algo='kd_tree', leaf_size=16)\n",
    "    bps.encode(arr2, n_bps_points=BPS_POINTS, radius=1.5, verbose=False, nn_algo='kd_tree', leaf_size=16)\n",
    "    end = timer()\n",
    "    times.append(end-start)\n",
    "print(times)\n",
    "avg_time = 0\n",
    "for i in range(0,5):\n",
    "    avg_time += times[i]\n",
    "avg_time = avg_time/5\n",
    "print(avg_time)"
   ]
  },
  {
   "cell_type": "code",
   "execution_count": 143,
   "metadata": {},
   "outputs": [
    {
     "name": "stdout",
     "output_type": "stream",
     "text": [
      "[1.958109982078895, 1.9985668088775128, 1.982979424064979, 2.021102205850184, 1.9762013091240078, 2.0139671477954835, 1.9724452421069145, 1.9715924041811377, 2.000730602070689, 1.9759474999736995, 1.955112110124901, 1.983909998089075, 1.9307141660246998, 2.0441802460700274, 2.018104629823938, 2.0048160061705858, 1.985454604960978, 1.9789073360152543, 1.9964434809517115, 1.9325820470694453]\n",
      "1.9873919459991156\n"
     ]
    }
   ],
   "source": [
    "times = []\n",
    "for i in range(0,20):\n",
    "    start = timer()\n",
    "    bps.encode(arr1, n_bps_points=BPS_POINTS, radius=1.5, verbose=False, nn_algo='kd_tree', leaf_size=20)\n",
    "    bps.encode(arr2, n_bps_points=BPS_POINTS, radius=1.5, verbose=False, nn_algo='kd_tree', leaf_size=20)\n",
    "    end = timer()\n",
    "    times.append(end-start)\n",
    "print(times)\n",
    "avg_time = 0\n",
    "for i in range(0,5):\n",
    "    avg_time += times[i]\n",
    "avg_time = avg_time/5\n",
    "print(avg_time)"
   ]
  },
  {
   "cell_type": "code",
   "execution_count": 144,
   "metadata": {},
   "outputs": [
    {
     "name": "stdout",
     "output_type": "stream",
     "text": [
      "[2.11403086502105, 2.037694541970268, 2.1179605599027127, 2.040586719987914, 2.0404245229437947, 2.0461866420228034, 2.062804973917082, 2.0708449261728674, 2.0521253480110317, 2.0375260789878666, 2.101241334108636, 2.094117796048522, 2.080541891977191, 2.079733360093087, 2.08913405216299, 2.0873068768996745, 2.065268555888906, 2.109619462862611, 2.0617629180196673, 2.067338441964239]\n",
      "2.0701394419651478\n"
     ]
    }
   ],
   "source": [
    "times = []\n",
    "for i in range(0,20):\n",
    "    start = timer()\n",
    "    bps.encode(arr1, n_bps_points=BPS_POINTS, radius=1.5, verbose=False, nn_algo='ball_tree', leaf_size=20)\n",
    "    bps.encode(arr2, n_bps_points=BPS_POINTS, radius=1.5, verbose=False, nn_algo='ball_tree', leaf_size=20)\n",
    "    end = timer()\n",
    "    times.append(end-start)\n",
    "print(times)\n",
    "avg_time = 0\n",
    "for i in range(0,5):\n",
    "    avg_time += times[i]\n",
    "avg_time = avg_time/5\n",
    "print(avg_time)"
   ]
  },
  {
   "cell_type": "code",
   "execution_count": 145,
   "metadata": {},
   "outputs": [
    {
     "name": "stdout",
     "output_type": "stream",
     "text": [
      "[1.9897101069800556, 1.9948430589865893, 1.9560316759161651, 2.026274789823219, 2.0224141059443355, 2.020655896048993, 2.032958230935037, 2.041997147956863, 2.041607012040913, 2.0088770710863173, 2.0128794389311224, 1.9575334580149502, 1.9849102338775992, 2.0725645830389112, 1.9548201230354607, 1.995720338774845, 2.035283137112856, 2.0205181878991425, 1.992012932896614, 2.03433910314925]\n",
      "1.997854747530073\n"
     ]
    }
   ],
   "source": [
    "times = []\n",
    "for i in range(0,20):\n",
    "    start = timer()\n",
    "    bps.encode(arr1, n_bps_points=BPS_POINTS, radius=1.5, verbose=False, nn_algo='kd_tree', leaf_size=13)\n",
    "    bps.encode(arr2, n_bps_points=BPS_POINTS, radius=1.5, verbose=False, nn_algo='kd_tree', leaf_size=13)\n",
    "    end = timer()\n",
    "    times.append(end-start)\n",
    "print(times)\n",
    "avg_time = 0\n",
    "for i in range(0,5):\n",
    "    avg_time += times[i]\n",
    "avg_time = avg_time/5\n",
    "print(avg_time)"
   ]
  },
  {
   "cell_type": "code",
   "execution_count": 146,
   "metadata": {},
   "outputs": [
    {
     "name": "stdout",
     "output_type": "stream",
     "text": [
      "[1.9752928880043328, 2.0018250818829983, 2.018732452997938, 2.0038379749748856, 2.0476741131860763, 2.0323531760368496, 2.039780702907592, 2.020600089104846, 2.0662258421070874, 2.0509840280283242, 2.065131837967783, 2.049207189818844, 2.034029522910714, 2.026571804191917, 1.989914788864553, 2.0330039621330798, 2.0704962441232055, 1.9830942910630256, 2.0399646961595863, 1.9792838289868087]\n",
      "2.0094725022092463\n"
     ]
    }
   ],
   "source": [
    "times = []\n",
    "for i in range(0,20):\n",
    "    start = timer()\n",
    "    bps.encode(arr1, n_bps_points=BPS_POINTS, radius=1.5, verbose=False, nn_algo='ball_tree', leaf_size=13)\n",
    "    bps.encode(arr2, n_bps_points=BPS_POINTS, radius=1.5, verbose=False, nn_algo='ball_tree', leaf_size=13)\n",
    "    end = timer()\n",
    "    times.append(end-start)\n",
    "print(times)\n",
    "avg_time = 0\n",
    "for i in range(0,5):\n",
    "    avg_time += times[i]\n",
    "avg_time = avg_time/5\n",
    "print(avg_time)"
   ]
  }
 ],
 "metadata": {
  "kernelspec": {
   "display_name": "Python 3",
   "language": "python",
   "name": "python3"
  },
  "language_info": {
   "codemirror_mode": {
    "name": "ipython",
    "version": 3
   },
   "file_extension": ".py",
   "mimetype": "text/x-python",
   "name": "python",
   "nbconvert_exporter": "python",
   "pygments_lexer": "ipython3",
   "version": "3.8.1"
  }
 },
 "nbformat": 4,
 "nbformat_minor": 4
}
