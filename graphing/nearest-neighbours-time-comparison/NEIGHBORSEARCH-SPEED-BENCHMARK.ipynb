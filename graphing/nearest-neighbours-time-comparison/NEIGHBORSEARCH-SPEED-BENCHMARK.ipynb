{
 "cells": [
  {
   "cell_type": "code",
   "execution_count": 1,
   "metadata": {},
   "outputs": [],
   "source": [
    "import numpy as np\n",
    "import os\n",
    "import sys\n",
    "import multiprocessing\n",
    "import time\n",
    "\n",
    "# PyTorch dependencies\n",
    "import torch as pt\n",
    "import torch.utils.data\n",
    "import torch.nn as nn\n",
    "import torch.nn.functional as F\n",
    "\n",
    "# local dependencies\n",
    "from sembps.bps import aptbps\n",
    "from modelnet40 import load_modelnet40\n",
    "import matplotlib.pyplot as plt"
   ]
  },
  {
   "cell_type": "code",
   "execution_count": 11,
   "metadata": {},
   "outputs": [],
   "source": [
    "# The libraries we're going to test\n",
    "from sklearn.neighbors import NearestNeighbors\n",
    "import ngtpy\n",
    "import nmslib\n",
    "import mrpt\n",
    "from annoy import AnnoyIndex"
   ]
  },
  {
   "cell_type": "code",
   "execution_count": 4,
   "metadata": {},
   "outputs": [
    {
     "name": "stdout",
     "output_type": "stream",
     "text": [
      "GPU device found...\n"
     ]
    }
   ],
   "source": [
    "MAIN_PATH = os.path.join(os.sep, 'media', 'add320', 'riccardo')\n",
    "MOD40_PATH = os.path.join(MAIN_PATH, 'modelnet40')\n",
    "\n",
    "LOGS_PATH = os.path.join(MOD40_PATH, 'logs')\n",
    "DATA_PATH = os.path.join(MOD40_PATH, 'data')\n",
    "\n",
    "BPS_CACHE_FILE = os.path.join(DATA_PATH, 'bps_mlp_data.npz')\n",
    "APTBPS_CACHE_FILE = os.path.join(DATA_PATH, 'aptbps_mlp_data.npz')\n",
    "\n",
    "N_MODELNET_CLASSES = 40\n",
    "\n",
    "N_BPS_POINTS = 512\n",
    "BPS_RADIUS = 1.7\n",
    "\n",
    "N_CPUS = multiprocessing.cpu_count()\n",
    "N_GPUS = torch.cuda.device_count()\n",
    "\n",
    "if N_GPUS > 0:\n",
    "    DEVICE = 'cuda'\n",
    "    print(\"GPU device found...\")\n",
    "else:\n",
    "    DEVICE = 'cpu'\n",
    "    print(\"GPU device not found, using %d CPU(s)...\" % N_CPUS)\n",
    "\n",
    "if not os.path.exists(LOGS_PATH):\n",
    "    os.makedirs(LOGS_PATH)"
   ]
  },
  {
   "cell_type": "code",
   "execution_count": 5,
   "metadata": {},
   "outputs": [
    {
     "name": "stdout",
     "output_type": "stream",
     "text": [
      "loading ModelNet40 point clouds...\n",
      "loaded 9840 training and 2468 test samples.\n"
     ]
    }
   ],
   "source": [
    "# load modelnet point clouds\n",
    "xtr, ytr, xte, yte = load_modelnet40(root_data_dir=DATA_PATH)\n",
    "\n",
    "# this will normalise your point clouds and return scaler parameters for inverse operation\n",
    "xtr_normalized = aptbps.normalize(xtr)\n",
    "xte_normalized = aptbps.normalize(xte)"
   ]
  },
  {
   "cell_type": "code",
   "execution_count": 17,
   "metadata": {},
   "outputs": [],
   "source": [
    "# Take a sample of 100 clouds from the training dataset\n",
    "np.random.seed(13)\n",
    "n_samples = 100\n",
    "xtr_sample = xtr_normalized[np.random.randint(0, xtr_normalized.shape[0], n_samples)]"
   ]
  },
  {
   "cell_type": "code",
   "execution_count": 18,
   "metadata": {},
   "outputs": [
    {
     "data": {
      "text/plain": [
       "(100, 2048, 3)"
      ]
     },
     "execution_count": 18,
     "metadata": {},
     "output_type": "execute_result"
    }
   ],
   "source": [
    "xtr_sample.shape"
   ]
  },
  {
   "cell_type": "code",
   "execution_count": 8,
   "metadata": {},
   "outputs": [],
   "source": [
    "# Generate a random uniform reference point cloud\n",
    "basis_set = aptbps.generate_random_basis(N_BPS_POINTS, n_dims=3, radius=BPS_RADIUS, random_seed=13)"
   ]
  },
  {
   "cell_type": "code",
   "execution_count": 9,
   "metadata": {},
   "outputs": [
    {
     "data": {
      "text/plain": [
       "(512, 3)"
      ]
     },
     "execution_count": 9,
     "metadata": {},
     "output_type": "execute_result"
    }
   ],
   "source": [
    "basis_set.shape"
   ]
  },
  {
   "cell_type": "markdown",
   "metadata": {},
   "source": [
    "All tests are done single-threaded, collecting the CPU time."
   ]
  },
  {
   "cell_type": "code",
   "execution_count": 23,
   "metadata": {},
   "outputs": [
    {
     "name": "stdout",
     "output_type": "stream",
     "text": [
      "iteration n. 0\n",
      "iteration n. 50\n",
      "iteration n. 100\n",
      "iteration n. 150\n",
      "iteration n. 200\n",
      "iteration n. 250\n",
      "iteration n. 300\n",
      "iteration n. 350\n",
      "iteration n. 400\n",
      "iteration n. 450\n",
      "iteration n. 500\n",
      "iteration n. 550\n",
      "iteration n. 600\n",
      "iteration n. 650\n",
      "iteration n. 700\n",
      "iteration n. 750\n",
      "iteration n. 800\n",
      "iteration n. 850\n",
      "iteration n. 900\n",
      "iteration n. 950\n",
      "mean kd time: 0.18674342801100055\n"
     ]
    }
   ],
   "source": [
    "# Test kd-tree\n",
    "kd_times = []\n",
    "N_ITERATIONS = 1000\n",
    "\n",
    "for i in range (0, N_ITERATIONS):\n",
    "    if i % 50 == 0:\n",
    "        print(\"iteration n. \" + str(i))\n",
    "        \n",
    "    start = time.process_time()\n",
    "    \n",
    "    # Iterate over all samples in input\n",
    "    for j in range(0, n_samples):\n",
    "        # Build tree for nearest neighbors\n",
    "        nbrs = NearestNeighbors(n_neighbors=1, leaf_size=16, algorithm=\"kd_tree\").fit(xtr_sample[j])\n",
    "    \n",
    "        # Query tree\n",
    "        fid_dist, npts_ix = nbrs.kneighbors(basis_set, n_neighbors=1, return_distance=True)\n",
    "    \n",
    "    end = time.process_time()\n",
    "    total_training_time = (end - start)\n",
    "    kd_times.append(total_training_time)\n",
    "    \n",
    "kd_mean = np.mean(kd_times)\n",
    "print(\"mean kd time: \" + str(kd_mean))"
   ]
  },
  {
   "cell_type": "code",
   "execution_count": 24,
   "metadata": {},
   "outputs": [
    {
     "name": "stdout",
     "output_type": "stream",
     "text": [
      "iteration n. 0\n",
      "iteration n. 50\n",
      "iteration n. 100\n",
      "iteration n. 150\n",
      "iteration n. 200\n",
      "iteration n. 250\n",
      "iteration n. 300\n",
      "iteration n. 350\n",
      "iteration n. 400\n",
      "iteration n. 450\n",
      "iteration n. 500\n",
      "iteration n. 550\n",
      "iteration n. 600\n",
      "iteration n. 650\n",
      "iteration n. 700\n",
      "iteration n. 750\n",
      "iteration n. 800\n",
      "iteration n. 850\n",
      "iteration n. 900\n",
      "iteration n. 950\n",
      "mean ball time: 0.23528463710600142\n"
     ]
    }
   ],
   "source": [
    "# Test ball-tree (bps number of leaves)\n",
    "ball_times = []\n",
    "N_ITERATIONS = 1000\n",
    "\n",
    "for i in range (0, N_ITERATIONS):\n",
    "    if i % 50 == 0:\n",
    "        print(\"iteration n. \" + str(i))\n",
    "        \n",
    "    start = time.process_time()\n",
    "    \n",
    "    # Iterate over all samples in input\n",
    "    for j in range(0, n_samples):\n",
    "        # Build tree for nearest neighbors\n",
    "        nbrs = NearestNeighbors(n_neighbors=1, leaf_size=1, algorithm=\"ball_tree\").fit(xtr_sample[j])\n",
    "    \n",
    "        # Query tree\n",
    "        fid_dist, npts_ix = nbrs.kneighbors(basis_set, n_neighbors=1, return_distance=True)\n",
    "    \n",
    "    end = time.process_time()\n",
    "    total_training_time = (end - start)\n",
    "    ball_times.append(total_training_time)\n",
    "    \n",
    "ball_mean = np.mean(ball_times)\n",
    "print(\"mean ball time: \" + str(ball_mean))"
   ]
  },
  {
   "cell_type": "code",
   "execution_count": 25,
   "metadata": {},
   "outputs": [
    {
     "name": "stdout",
     "output_type": "stream",
     "text": [
      "iteration n. 0\n",
      "iteration n. 50\n",
      "iteration n. 100\n",
      "iteration n. 150\n",
      "iteration n. 200\n",
      "iteration n. 250\n",
      "iteration n. 300\n",
      "iteration n. 350\n",
      "iteration n. 400\n",
      "iteration n. 450\n",
      "iteration n. 500\n",
      "iteration n. 550\n",
      "iteration n. 600\n",
      "iteration n. 650\n",
      "iteration n. 700\n",
      "iteration n. 750\n",
      "iteration n. 800\n",
      "iteration n. 850\n",
      "iteration n. 900\n",
      "iteration n. 950\n",
      "mean mrpt time: 7.865359997375998\n"
     ]
    }
   ],
   "source": [
    "# Test mrpt\n",
    "mrpt_times = []\n",
    "N_ITERATIONS = 1000\n",
    "\n",
    "# Target accuracy in finding the nearest neighbor\n",
    "target_recall = 0.9 \n",
    "\n",
    "n_neighbors = 1\n",
    "\n",
    "for i in range (0, N_ITERATIONS):\n",
    "    if i % 50 == 0:\n",
    "        print(\"iteration n. \" + str(i))\n",
    "        \n",
    "    start = time.process_time()\n",
    "    \n",
    "    # Iterate over all samples in input\n",
    "    for j in range(0, n_samples):\n",
    "        \n",
    "        # Build index\n",
    "        index = mrpt.MRPTIndex(xtr_sample[j].astype(np.float32))\n",
    "        \n",
    "        # Autotune\n",
    "        index.build_autotune_sample(target_recall, n_neighbors)\n",
    "        \n",
    "        # Query index\n",
    "        npts_idx, fid_dist = index.ann(basis_set.astype(np.float32), return_distances=True)\n",
    "        \n",
    "        # Access all returned indexes via npts_idx[0]\n",
    "        # Access all returned dists via fid_dist[0]\n",
    "    \n",
    "    end = time.process_time()\n",
    "    total_training_time = (end - start)\n",
    "    mrpt_times.append(total_training_time)\n",
    "    \n",
    "mrpt_mean = np.mean(mrpt_times)\n",
    "print(\"mean mrpt time: \" + str(mrpt_mean))"
   ]
  },
  {
   "cell_type": "code",
   "execution_count": 27,
   "metadata": {},
   "outputs": [
    {
     "name": "stdout",
     "output_type": "stream",
     "text": [
      "iteration n. 0\n",
      "iteration n. 50\n",
      "iteration n. 100\n",
      "iteration n. 150\n",
      "iteration n. 200\n",
      "iteration n. 250\n",
      "iteration n. 300\n",
      "iteration n. 350\n",
      "iteration n. 400\n",
      "iteration n. 450\n",
      "iteration n. 500\n",
      "iteration n. 550\n",
      "iteration n. 600\n",
      "iteration n. 650\n",
      "iteration n. 700\n",
      "iteration n. 750\n",
      "iteration n. 800\n",
      "iteration n. 850\n",
      "iteration n. 900\n",
      "iteration n. 950\n",
      "mean annoy time: 0.6780599427299913\n"
     ]
    }
   ],
   "source": [
    "# Test annoy\n",
    "annoy_times = []\n",
    "N_ITERATIONS = 1000\n",
    "\n",
    "for i in range (0, N_ITERATIONS):\n",
    "    if i % 50 == 0:\n",
    "        print(\"iteration n. \" + str(i))\n",
    "        \n",
    "    start = time.process_time()\n",
    "    \n",
    "    # Iterate over all samples in input\n",
    "    for j in range(0, n_samples):\n",
    "        \n",
    "        # Create an annoy index with euclidean as metric\n",
    "        ann = AnnoyIndex(3, 'euclidean')\n",
    "        \n",
    "        # Populate the index with the points in the input cloud\n",
    "        for in_idx, in_point in enumerate(xtr_sample[j]):\n",
    "            ann.add_item(in_idx, in_point)\n",
    "        \n",
    "        # Build index with n_trees\n",
    "        ann.build(1)\n",
    "        \n",
    "        # Find nn for each point in basis point cloud\n",
    "        for b_idx, b_point in enumerate(basis_set):\n",
    "            npts_ix, fid_dist = ann.get_nns_by_vector([b_point[0], b_point[1], b_point[2]], 1, include_distances=True)\n",
    "            # idx_bps[fid][b_idx] = nn_idx[0]\n",
    "            # x_bps[fid][b_idx] = nn_dist[0]\n",
    "    \n",
    "    end = time.process_time()\n",
    "    total_training_time = (end - start)\n",
    "    annoy_times.append(total_training_time)\n",
    "    \n",
    "annoy_mean = np.mean(annoy_times)\n",
    "print(\"mean annoy time: \" + str(annoy_mean))"
   ]
  },
  {
   "cell_type": "code",
   "execution_count": 28,
   "metadata": {},
   "outputs": [
    {
     "name": "stdout",
     "output_type": "stream",
     "text": [
      "iteration n. 0\n",
      "iteration n. 50\n",
      "iteration n. 100\n",
      "iteration n. 150\n",
      "iteration n. 200\n",
      "iteration n. 250\n",
      "iteration n. 300\n",
      "iteration n. 350\n",
      "iteration n. 400\n",
      "iteration n. 450\n",
      "iteration n. 500\n",
      "iteration n. 550\n",
      "iteration n. 600\n",
      "iteration n. 650\n",
      "iteration n. 700\n",
      "iteration n. 750\n",
      "iteration n. 800\n",
      "iteration n. 850\n",
      "iteration n. 900\n",
      "iteration n. 950\n",
      "mean nmslib time: 44.85518789950985\n"
     ]
    }
   ],
   "source": [
    "# Test nmslib\n",
    "nmslib_times = []\n",
    "N_ITERATIONS = 1000\n",
    "\n",
    "for i in range (0, N_ITERATIONS):\n",
    "    if i % 50 == 0:\n",
    "        print(\"iteration n. \" + str(i))\n",
    "        \n",
    "    start = time.process_time()\n",
    "    \n",
    "    # Iterate over all samples in input\n",
    "    for j in range(0, n_samples):\n",
    "        \n",
    "        # Initialize index with L2 distance\n",
    "        # hnsw = hierarchical navigable small word\n",
    "        index = nmslib.init(method='hnsw', space='l2')\n",
    "        \n",
    "        # Populate with input cloud\n",
    "        index.addDataPointBatch(xtr_sample[j])\n",
    "        \n",
    "        # Create index\n",
    "        index.createIndex({'post': 2}, print_progress=False)\n",
    "        \n",
    "        # Find neighbours\n",
    "        neighbours = index.knnQueryBatch(basis_set, k=1, num_threads=1)\n",
    "        \n",
    "        # Uncomment to obtain indexes and dists\n",
    "        #for i in range (0, n_bps_points):\n",
    "            #idx_bps[fid][i] = neighbours[i][0][0]\n",
    "            #x_bps[fid][i] = neighbours[i][1][0]\n",
    "    \n",
    "    end = time.process_time()\n",
    "    total_training_time = (end - start)\n",
    "    nmslib_times.append(total_training_time)\n",
    "    \n",
    "nmslib_mean = np.mean(nmslib_times)\n",
    "print(\"mean nmslib time: \" + str(nmslib_mean))"
   ]
  },
  {
   "cell_type": "code",
   "execution_count": 31,
   "metadata": {},
   "outputs": [
    {
     "name": "stdout",
     "output_type": "stream",
     "text": [
      "iteration n. 0\n",
      "iteration n. 50\n",
      "iteration n. 100\n",
      "iteration n. 150\n",
      "iteration n. 200\n",
      "iteration n. 250\n",
      "iteration n. 300\n",
      "iteration n. 350\n",
      "iteration n. 400\n",
      "iteration n. 450\n",
      "iteration n. 500\n",
      "iteration n. 550\n",
      "iteration n. 600\n",
      "iteration n. 650\n",
      "iteration n. 700\n",
      "iteration n. 750\n",
      "iteration n. 800\n",
      "iteration n. 850\n",
      "iteration n. 900\n",
      "iteration n. 950\n",
      "mean ngt time: 4.980488702268805\n"
     ]
    }
   ],
   "source": [
    "# Test ngt\n",
    "ngt_times = []\n",
    "N_ITERATIONS = 1000\n",
    "\n",
    "for i in range (0, N_ITERATIONS):\n",
    "    if i % 50 == 0:\n",
    "        print(\"iteration n. \" + str(i))\n",
    "        \n",
    "    start = time.process_time()\n",
    "    \n",
    "    # Iterate over all samples in input\n",
    "    for j in range(0, n_samples):\n",
    "        \n",
    "        # edge_size_for_creation greatly speeds up, search not as much\n",
    "        ngtpy.create(b\"tmp\", 3, edge_size_for_creation=2, edge_size_for_search=N_BPS_POINTS)\n",
    "        index = ngtpy.Index(b\"tmp\")\n",
    "        \n",
    "        # Populate with input cloud\n",
    "        index.batch_insert(xtr_sample[j])\n",
    "        \n",
    "        # No need to build index, because batch_index is used.\n",
    "        \n",
    "        # Find ann for each point in basis point cloud\n",
    "        for b_idx, b_point in enumerate(basis_set):\n",
    "            result = index.search(query=[b_point[0], b_point[1], b_point[2]], size=1, epsilon=0.01, with_distance=True)\n",
    "            #idx_bps[fid][b_idx] = result[0][0]\n",
    "            #x_bps[fid][b_idx] = result[0][1]\n",
    "            \n",
    "    end = time.process_time()\n",
    "    \n",
    "    # Delete temp folder at the end\n",
    "    # (after process_time, so disk removal time is not counted;\n",
    "    # this is because in practice you may want to keep the tmp folder)\n",
    "    !rm -rf tmp/\n",
    "    \n",
    "    total_training_time = (end - start)\n",
    "    ngt_times.append(total_training_time)\n",
    "    \n",
    "ngt_mean = np.mean(ngt_times)\n",
    "print(\"mean ngt time: \" + str(ngt_mean))"
   ]
  },
  {
   "cell_type": "code",
   "execution_count": 33,
   "metadata": {},
   "outputs": [],
   "source": [
    "# save data\n",
    "np.savetxt(\"kd_times.csv\", kd_times, delimiter=',', header='')\n",
    "np.savetxt(\"ball_times.csv\", ball_times, delimiter=',', header='')\n",
    "np.savetxt(\"annoy_times.csv\", annoy_times, delimiter=',', header='')\n",
    "np.savetxt(\"mrpt_times.csv\", mrpt_times, delimiter=',', header='')\n",
    "np.savetxt(\"nmslib_times.csv\", nmslib_times, delimiter=',', header='')\n",
    "np.savetxt(\"ngt_times.csv\", ngt_times, delimiter=',', header='')"
   ]
  },
  {
   "cell_type": "code",
   "execution_count": 34,
   "metadata": {},
   "outputs": [
    {
     "name": "stdout",
     "output_type": "stream",
     "text": [
      "0.002277413432554225 0.0026603510409827064 0.008860050970546903 0.03521138558884549 0.04551729026147752 0.014589451692886418\n"
     ]
    }
   ],
   "source": [
    "# Calculate standard deviations\n",
    "kd_std = np.std(kd_times)\n",
    "ball_std = np.std(ball_times)\n",
    "annoy_std = np.std(annoy_times)\n",
    "mrpt_std = np.std(mrpt_times)\n",
    "nmslib_std = np.std(nmslib_times)\n",
    "ngt_std = np.std(ngt_times)\n",
    "\n",
    "print(kd_std, ball_std, annoy_std, mrpt_std, nmslib_std, ngt_std)"
   ]
  },
  {
   "cell_type": "code",
   "execution_count": 74,
   "metadata": {},
   "outputs": [
    {
     "data": {
      "image/png": "[encoded data removed]",
      "text/plain": [
       "<Figure size 432x288 with 1 Axes>"
      ]
     },
     "metadata": {
      "needs_background": "light"
     },
     "output_type": "display_data"
    }
   ],
   "source": [
    "fig, ax = plt.subplots()\n",
    "\n",
    "# This plots everything together, but I can't make entries for the individual colors\n",
    "#ax.bar([\"nmslib\", \"mrpt\", \"ngt\", \"annoy\", \"ball tree\", \"kd-tree\"],\n",
    "#       [nmslib_mean, mrpt_mean, ngt_mean, annoy_mean, ball_mean, kd_mean],\n",
    "#       yerr=[5*nmslib_std, 5*mrpt_std, 5*ngt_std, 5*annoy_std, 5*ball_std, 5*kd_std],\n",
    "#       color=['C1','C1','C1','C1',u'#1f77b4',u'#1f77b4'],\n",
    "#       error_kw={'label': '$5\\sigma$', 'capsize': 5})\n",
    "\n",
    "# Approximate nn methods\n",
    "ax.bar([\"NMSLIB\", \"MRPT\", \"NGT\", \"Annoy\"],\n",
    "       [nmslib_mean, mrpt_mean, ngt_mean, annoy_mean],\n",
    "       yerr=[5*nmslib_std, 5*mrpt_std, 5*ngt_std, 5*annoy_std],\n",
    "       color='C1',\n",
    "       label='approximate methods',\n",
    "       error_kw={'label': '$5\\sigma$', 'capsize': 5})\n",
    "\n",
    "# Exact methods\n",
    "ax.bar([\"Ball tree\", \"KD-tree\"],\n",
    "       [ball_mean, kd_mean],\n",
    "       yerr=[5*ball_std, 5*kd_std],\n",
    "       color=u'#1f77b4',\n",
    "       label='exact methods',\n",
    "       error_kw={'capsize': 5})\n",
    "\n",
    "ax.set_title(\"Mean nearest neighbour search process time over 1000 iterations\", weight='bold')\n",
    "ax.set_yscale(\"log\")\n",
    "ax.set_axisbelow(True)\n",
    "ax.yaxis.grid(True, color='#EEEEEE')\n",
    "ax.legend()\n",
    "ax.set_ylabel(\"time (s) | log scale\")\n",
    "ax.set_xlabel(\"Nearest neighbour search method\")\n",
    "fig.tight_layout()"
   ]
  },
  {
   "cell_type": "code",
   "execution_count": 76,
   "metadata": {},
   "outputs": [],
   "source": [
    "fig.savefig('nearest-neighbours-time-comparison.svg', bbox_inches='tight')"
   ]
  },
  {
   "cell_type": "code",
   "execution_count": 78,
   "metadata": {},
   "outputs": [
    {
     "name": "stdout",
     "output_type": "stream",
     "text": [
      "kd-tree mean: 0.18674342801100055\n",
      "kd-tree std: 0.002277413432554225\n",
      "ball tree mean: 0.23528463710600142\n",
      "ball tree std: 0.0026603510409827064\n",
      "annoy mean: 0.6780599427299913\n",
      "annoy std: 0.008860050970546903\n",
      "nmslib mean: 44.85518789950985\n",
      "nmslib std: 0.04551729026147752\n",
      "ngt mean: 4.980488702268805\n",
      "ngt std: 0.014589451692886418\n",
      "mrpt mean: 7.865359997375998\n",
      "mrpt std: 0.03521138558884549\n"
     ]
    }
   ],
   "source": [
    "# Values:\n",
    "print(\"kd-tree mean: \" + str(kd_mean))\n",
    "print(\"kd-tree std: \" + str(kd_std))\n",
    "\n",
    "print(\"ball tree mean: \" + str(ball_mean))\n",
    "print(\"ball tree std: \" + str(ball_std))\n",
    "\n",
    "print(\"annoy mean: \" + str(annoy_mean))\n",
    "print(\"annoy std: \" + str(annoy_std))\n",
    "\n",
    "print(\"nmslib mean: \" + str(nmslib_mean))\n",
    "print(\"nmslib std: \" + str(nmslib_std))\n",
    "\n",
    "print(\"ngt mean: \" + str(ngt_mean))\n",
    "print(\"ngt std: \" + str(ngt_std))\n",
    "\n",
    "print(\"mrpt mean: \" + str(mrpt_mean))\n",
    "print(\"mrpt std: \" + str(mrpt_std))"
   ]
  }
 ],
 "metadata": {
  "kernelspec": {
   "display_name": "Python3 (base)",
   "language": "python",
   "name": "base"
  },
  "language_info": {
   "codemirror_mode": {
    "name": "ipython",
    "version": 3
   },
   "file_extension": ".py",
   "mimetype": "text/x-python",
   "name": "python",
   "nbconvert_exporter": "python",
   "pygments_lexer": "ipython3",
   "version": "3.7.4"
  }
 },
 "nbformat": 4,
 "nbformat_minor": 2
}
