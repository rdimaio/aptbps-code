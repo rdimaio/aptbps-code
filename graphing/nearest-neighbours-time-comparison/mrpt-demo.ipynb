{
 "cells": [
  {
   "cell_type": "code",
   "execution_count": 1,
   "metadata": {},
   "outputs": [],
   "source": [
    "import mrpt"
   ]
  },
  {
   "cell_type": "code",
   "execution_count": 2,
   "metadata": {},
   "outputs": [],
   "source": [
    "import pandas as pd\n",
    "import numpy as np\n",
    "import torch as pt\n",
    "import multiprocessing\n",
    "#from bps import bps\n",
    "from sembps.bps import bps\n",
    "from torch.utils.data import Dataset, DataLoader\n",
    "import os\n",
    "from tqdm import tqdm\n",
    "import h5py"
   ]
  },
  {
   "cell_type": "code",
   "execution_count": 3,
   "metadata": {},
   "outputs": [],
   "source": [
    "MAIN_PATH = os.path.join('aptbps-code')\n",
    "LOGS_PATH = os.path.join(MAIN_PATH, 'logs')\n",
    "DATA_PATH = os.path.join(MAIN_PATH, 'data')\n",
    "\n",
    "train_path = os.path.join(DATA_PATH, 'train')\n",
    "hdf5_path = os.path.join(DATA_PATH, 'hdf5')\n",
    "no_unlabeled_h5_path = os.path.join(DATA_PATH, 'no_unlabeled_hdf5')\n",
    "hdf5_train_path = os.path.join(hdf5_path, 'train')\n",
    "encoded_hdf5_path = os.path.join(DATA_PATH, 'tree_encoded_hdf5')\n",
    "\n",
    "\n",
    "# All the clouds in the training dataset\n",
    "train_files = [\n",
    "    \"bildstein_station1_xyz_intensity_rgb\",\n",
    "    \"bildstein_station3_xyz_intensity_rgb\",\n",
    "    \"bildstein_station5_xyz_intensity_rgb\",\n",
    "    \"domfountain_station1_xyz_intensity_rgb\",\n",
    "    \"domfountain_station2_xyz_intensity_rgb\",\n",
    "    \"domfountain_station3_xyz_intensity_rgb\",\n",
    "    \"neugasse_station1_xyz_intensity_rgb\",\n",
    "    \"sg27_station1_intensity_rgb\",\n",
    "    \"sg27_station2_intensity_rgb\",\n",
    "    \"sg27_station4_intensity_rgb\",\n",
    "    \"sg27_station5_intensity_rgb\",\n",
    "    \"sg27_station9_intensity_rgb\",\n",
    "    \"sg28_station4_intensity_rgb\",\n",
    "    \"untermaederbrunnen_station1_xyz_intensity_rgb\",\n",
    "    \"untermaederbrunnen_station3_xyz_intensity_rgb\",\n",
    "]"
   ]
  },
  {
   "cell_type": "code",
   "execution_count": 123,
   "metadata": {},
   "outputs": [],
   "source": [
    "n_orig_points = 2048\n",
    "n_bps_points = 512\n",
    "n_dims = 3\n",
    "radius = 1.5\n",
    "random_seed = 13"
   ]
  },
  {
   "cell_type": "code",
   "execution_count": 124,
   "metadata": {},
   "outputs": [],
   "source": [
    "# batch of 100 point clouds to convert\n",
    "x = np.random.normal(size=[100, n_orig_points, 3])\n",
    "\n",
    "# optional point cloud normalization to fit a unit sphere\n",
    "x = bps.normalize(x)"
   ]
  },
  {
   "cell_type": "code",
   "execution_count": 125,
   "metadata": {},
   "outputs": [],
   "source": [
    "from timeit import default_timer as timer\n",
    "import time\n",
    "from sklearn.neighbors import NearestNeighbors"
   ]
  },
  {
   "cell_type": "code",
   "execution_count": 126,
   "metadata": {},
   "outputs": [],
   "source": [
    "n_clouds, n_points, n_dims = x.shape\n",
    "\n",
    "basis_set = bps.generate_random_basis(n_bps_points, n_dims=n_dims, radius=radius, random_seed=random_seed)\n",
    "\n",
    "n_bps_points = basis_set.shape[0]\n",
    "\n",
    "x_bps = np.zeros([n_clouds, n_bps_points])\n",
    "        \n",
    "fid_lst = range(0, x.shape[0])\n",
    "\n",
    "idx_bps = np.zeros([n_clouds, n_bps_points])"
   ]
  },
  {
   "cell_type": "code",
   "execution_count": null,
   "metadata": {},
   "outputs": [],
   "source": []
  },
  {
   "cell_type": "markdown",
   "metadata": {},
   "source": [
    "# demo (various cases with different tunings)\n",
    "target_recall is the main tuning parameter; there's not much speed increase by lowering it though, might as well keep it high"
   ]
  },
  {
   "cell_type": "code",
   "execution_count": 94,
   "metadata": {},
   "outputs": [],
   "source": [
    "target_recall = 0.9\n",
    "n_neighbors = 1"
   ]
  },
  {
   "cell_type": "markdown",
   "metadata": {},
   "source": [
    "# Single subcloud test"
   ]
  },
  {
   "cell_type": "code",
   "execution_count": 136,
   "metadata": {},
   "outputs": [
    {
     "name": "stdout",
     "output_type": "stream",
     "text": [
      "0.009546916000545025\n"
     ]
    }
   ],
   "source": [
    "start = timer()\n",
    "\n",
    "index = mrpt.MRPTIndex(x[0].astype(np.float32))\n",
    "\n",
    "#index.build_autotune_sample(target_recall, n_neighbors)\n",
    "    \n",
    "#print(index.ann(basis_set.astype(np.float32), return_distances=True))\n",
    "    \n",
    "    # Find nn for each point in basis point cloud\n",
    "for b_idx, b_point in enumerate(basis_set):\n",
    "    b_point = b_point.astype(np.float32)\n",
    "    nn_idx, nn_dist = index.exact_search(b_point, 1, return_distances=True)\n",
    "    idx_bps[0][b_idx] = nn_idx[0]\n",
    "    x_bps[0][b_idx] = nn_dist[0]\n",
    "\n",
    "end = timer()\n",
    "print(end-start)"
   ]
  },
  {
   "cell_type": "code",
   "execution_count": 137,
   "metadata": {},
   "outputs": [
    {
     "name": "stdout",
     "output_type": "stream",
     "text": [
      "0.021634887205436826\n"
     ]
    }
   ],
   "source": [
    "start = timer()\n",
    "\n",
    "index = mrpt.MRPTIndex(x[0].astype(np.float32))\n",
    "\n",
    "index.build_autotune_sample(target_recall, n_neighbors)\n",
    "    \n",
    "#print(index.ann(basis_set.astype(np.float32), return_distances=True))\n",
    "    \n",
    "    # Find nn for each point in basis point cloud\n",
    "for b_idx, b_point in enumerate(basis_set):\n",
    "    b_point = b_point.astype(np.float32)\n",
    "    nn_idx, nn_dist = index.ann(b_point, return_distances=True)\n",
    "    idx_bps[0][b_idx] = nn_idx[0]\n",
    "    x_bps[0][b_idx] = nn_dist[0]\n",
    "\n",
    "end = timer()\n",
    "print(end-start)"
   ]
  },
  {
   "cell_type": "markdown",
   "metadata": {},
   "source": [
    "# Multiple clouds, iterate over points in basis point set"
   ]
  },
  {
   "cell_type": "code",
   "execution_count": 95,
   "metadata": {},
   "outputs": [
    {
     "name": "stdout",
     "output_type": "stream",
     "text": [
      "1.6660681830253452\n"
     ]
    }
   ],
   "source": [
    "start = timer()\n",
    "\n",
    "for fid in fid_lst:\n",
    "    index = mrpt.MRPTIndex(x[fid].astype(np.float32))\n",
    "    \n",
    "    index.build_autotune_sample(target_recall, n_neighbors)\n",
    "    \n",
    "    # Find nn for each point in basis point cloud\n",
    "    for b_idx, b_point in enumerate(basis_set):\n",
    "        b_point = b_point.astype(np.float32)\n",
    "        nn_idx, nn_dist = index.ann(b_point, return_distances=True)\n",
    "        idx_bps[fid][b_idx] = nn_idx[0]\n",
    "        x_bps[fid][b_idx] = nn_dist[0]\n",
    "\n",
    "    \n",
    "end = timer()\n",
    "print(end-start)"
   ]
  },
  {
   "cell_type": "code",
   "execution_count": 101,
   "metadata": {},
   "outputs": [
    {
     "name": "stdout",
     "output_type": "stream",
     "text": [
      "[[0.30067015 0.73955375 0.40114665 ... 0.05340877 0.48015454 0.38829109]\n",
      " [0.38480461 0.82479316 0.55298543 ... 0.03123789 0.53781599 0.33851123]\n",
      " [0.36253688 0.80617148 0.66118342 ... 0.03550712 0.46481341 0.36253688]\n",
      " ...\n",
      " [0.45241389 0.86386204 0.65280497 ... 0.05871286 0.57802105 0.36523324]\n",
      " [0.35403153 0.73373264 0.51478392 ... 0.02440229 0.43086687 0.3576676 ]\n",
      " [0.26779544 0.75354362 0.5570699  ... 0.02345088 0.47231674 0.26779544]]\n"
     ]
    }
   ],
   "source": [
    "print(x_bps)"
   ]
  },
  {
   "cell_type": "markdown",
   "metadata": {},
   "source": [
    "# Multiple clouds, compare basis point set directly (no inner loop)"
   ]
  },
  {
   "cell_type": "code",
   "execution_count": 106,
   "metadata": {},
   "outputs": [
    {
     "name": "stdout",
     "output_type": "stream",
     "text": [
      "1.3432215070351958\n"
     ]
    }
   ],
   "source": [
    "start = timer()\n",
    "\n",
    "for fid in fid_lst:\n",
    "    index = mrpt.MRPTIndex(x[fid].astype(np.float32))\n",
    "    \n",
    "    index.build_autotune_sample(target_recall, n_neighbors)\n",
    "    \n",
    "    nn_idx, nn_dist = index.ann(basis_set.astype(np.float32), return_distances=True)\n",
    "    idx_bps[fid] = nn_idx[0]\n",
    "    x_bps[fid] = nn_dist[0]\n",
    "    \n",
    "end = timer()\n",
    "print(end-start)"
   ]
  },
  {
   "cell_type": "code",
   "execution_count": 108,
   "metadata": {},
   "outputs": [
    {
     "name": "stdout",
     "output_type": "stream",
     "text": [
      "[[0.30067015 0.30067015 0.30067015 ... 0.30067015 0.30067015 0.30067015]\n",
      " [0.33851123 0.33851123 0.33851123 ... 0.33851123 0.33851123 0.33851123]\n",
      " [0.36253688 0.36253688 0.36253688 ... 0.36253688 0.36253688 0.36253688]\n",
      " ...\n",
      " [0.45298287 0.45298287 0.45298287 ... 0.45298287 0.45298287 0.45298287]\n",
      " [0.35403153 0.35403153 0.35403153 ... 0.35403153 0.35403153 0.35403153]\n",
      " [0.26779544 0.26779544 0.26779544 ... 0.26779544 0.26779544 0.26779544]]\n"
     ]
    },
    {
     "data": {
      "text/plain": [
       "(100, 512)"
      ]
     },
     "execution_count": 108,
     "metadata": {},
     "output_type": "execute_result"
    }
   ],
   "source": [
    "print(x_bps)\n",
    "x_bps.shape"
   ]
  },
  {
   "cell_type": "markdown",
   "metadata": {},
   "source": [
    "# As you can see above, there is a speed increase in comparing the basis point set directly, and the results are the same.\n",
    "# Below: multiple clouds, no build_autotune_sample, exact_search instead of ann\n",
    "as you can see it's way less efficient, so it's best to autotune."
   ]
  },
  {
   "cell_type": "code",
   "execution_count": 154,
   "metadata": {},
   "outputs": [
    {
     "name": "stdout",
     "output_type": "stream",
     "text": [
      "4.03850423800759\n"
     ]
    }
   ],
   "source": [
    "start = timer()\n",
    "\n",
    "for fid in fid_lst:\n",
    "    index = mrpt.MRPTIndex(x[fid].astype(np.float32))\n",
    "    \n",
    "    #index.build_autotune_sample(target_recall, n_neighbors)\n",
    "    \n",
    "    nn_idx, nn_dist = index.exact_search(basis_set.astype(np.float32), n_bps_points, return_distances=True)\n",
    "    idx_bps[fid] = nn_idx[0]\n",
    "    x_bps[fid] = nn_dist[0]\n",
    "    \n",
    "end = timer()\n",
    "print(end-start)"
   ]
  },
  {
   "cell_type": "code",
   "execution_count": 155,
   "metadata": {},
   "outputs": [
    {
     "name": "stdout",
     "output_type": "stream",
     "text": [
      "[[0.26745006 0.36919162 0.37630063 ... 0.87939894 0.87967294 0.8799209 ]\n",
      " [0.14254008 0.22192255 0.27049926 ... 0.87376797 0.87380505 0.87392092]\n",
      " [0.25283483 0.31226045 0.38223329 ... 0.87014574 0.87017608 0.87175322]\n",
      " ...\n",
      " [0.39784214 0.39991084 0.4126842  ... 0.88317472 0.88376039 0.88379562]\n",
      " [0.22654429 0.28115085 0.28808853 ... 0.87038493 0.87072766 0.87121207]\n",
      " [0.29608193 0.31139612 0.38247636 ... 0.88602364 0.88663399 0.88773572]]\n",
      "[[ 325. 1964. 1803. ... 1617. 1765. 1343.]\n",
      " [ 895. 1952. 1038. ... 1002.  536.  995.]\n",
      " [1943.  454.  169. ... 1395. 1954.  155.]\n",
      " ...\n",
      " [ 836.  575.  208. ...  324.  842. 1306.]\n",
      " [1812.  476. 1761. ...  911.  697. 1231.]\n",
      " [ 651.  104.  238. ... 1283.  143.  299.]]\n"
     ]
    }
   ],
   "source": [
    "print(x_bps)\n",
    "print(idx_bps)"
   ]
  },
  {
   "cell_type": "code",
   "execution_count": 145,
   "metadata": {},
   "outputs": [
    {
     "name": "stdout",
     "output_type": "stream",
     "text": [
      "0.21964480890892446\n"
     ]
    }
   ],
   "source": [
    "start = timer()\n",
    "for fid in fid_lst:\n",
    "            nbrs = NearestNeighbors(n_neighbors=1, leaf_size=16, algorithm='kd_tree').fit(x[fid])\n",
    "            fid_dist, npts_ix = nbrs.kneighbors(basis_set)\n",
    "            x_bps[fid] = fid_dist.squeeze()\n",
    "            idx_bps[fid] = npts_ix.squeeze()\n",
    "end = timer()\n",
    "print(end-start)"
   ]
  },
  {
   "cell_type": "code",
   "execution_count": 146,
   "metadata": {},
   "outputs": [
    {
     "data": {
      "text/plain": [
       "array([[0.26745007, 0.73740243, 0.49597505, ..., 0.04366947, 0.45987128,\n",
       "        0.40547443],\n",
       "       [0.14254003, 0.59741447, 0.55925921, ..., 0.04056936, 0.32275239,\n",
       "        0.13695616],\n",
       "       [0.25283479, 0.6802153 , 0.47804271, ..., 0.03196637, 0.42594227,\n",
       "        0.33400218],\n",
       "       ...,\n",
       "       [0.39784214, 0.75019342, 0.60759885, ..., 0.03182879, 0.45885037,\n",
       "        0.37687963],\n",
       "       [0.22654428, 0.71636211, 0.56481734, ..., 0.03430374, 0.37982411,\n",
       "        0.36013448],\n",
       "       [0.29608191, 0.66290331, 0.42415639, ..., 0.03322053, 0.38666311,\n",
       "        0.26885576]])"
      ]
     },
     "execution_count": 146,
     "metadata": {},
     "output_type": "execute_result"
    }
   ],
   "source": [
    "x_bps"
   ]
  }
 ],
 "metadata": {
  "kernelspec": {
   "display_name": "Python 3",
   "language": "python",
   "name": "python3"
  },
  "language_info": {
   "codemirror_mode": {
    "name": "ipython",
    "version": 3
   },
   "file_extension": ".py",
   "mimetype": "text/x-python",
   "name": "python",
   "nbconvert_exporter": "python",
   "pygments_lexer": "ipython3",
   "version": "3.8.1"
  }
 },
 "nbformat": 4,
 "nbformat_minor": 4
}
