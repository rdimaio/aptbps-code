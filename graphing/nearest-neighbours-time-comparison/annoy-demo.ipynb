{
 "cells": [
  {
   "cell_type": "code",
   "execution_count": 17,
   "metadata": {},
   "outputs": [],
   "source": [
    "from annoy import AnnoyIndex"
   ]
  },
  {
   "cell_type": "code",
   "execution_count": 18,
   "metadata": {},
   "outputs": [],
   "source": [
    "import pandas as pd\n",
    "import numpy as np\n",
    "import torch as pt\n",
    "import multiprocessing\n",
    "#from bps import bps\n",
    "from sembps.bps import bps\n",
    "from torch.utils.data import Dataset, DataLoader\n",
    "import os\n",
    "from tqdm import tqdm\n",
    "import h5py"
   ]
  },
  {
   "cell_type": "code",
   "execution_count": 45,
   "metadata": {},
   "outputs": [],
   "source": [
    "MAIN_PATH = os.path.join('aptbps-code')\n",
    "LOGS_PATH = os.path.join(MAIN_PATH, 'logs')\n",
    "DATA_PATH = os.path.join(MAIN_PATH, 'data')\n",
    "\n",
    "train_path = os.path.join(DATA_PATH, 'train')\n",
    "hdf5_path = os.path.join(DATA_PATH, 'hdf5')\n",
    "no_unlabeled_h5_path = os.path.join(DATA_PATH, 'no_unlabeled_hdf5')\n",
    "hdf5_train_path = os.path.join(hdf5_path, 'train')\n",
    "encoded_hdf5_path = os.path.join(DATA_PATH, 'tree_encoded_hdf5')\n",
    "\n",
    "# All the clouds in the training dataset\n",
    "train_files = [\n",
    "    \"bildstein_station1_xyz_intensity_rgb\",\n",
    "    \"bildstein_station3_xyz_intensity_rgb\",\n",
    "    \"bildstein_station5_xyz_intensity_rgb\",\n",
    "    \"domfountain_station1_xyz_intensity_rgb\",\n",
    "    \"domfountain_station2_xyz_intensity_rgb\",\n",
    "    \"domfountain_station3_xyz_intensity_rgb\",\n",
    "    \"neugasse_station1_xyz_intensity_rgb\",\n",
    "    \"sg27_station1_intensity_rgb\",\n",
    "    \"sg27_station2_intensity_rgb\",\n",
    "    \"sg27_station4_intensity_rgb\",\n",
    "    \"sg27_station5_intensity_rgb\",\n",
    "    \"sg27_station9_intensity_rgb\",\n",
    "    \"sg28_station4_intensity_rgb\",\n",
    "    \"untermaederbrunnen_station1_xyz_intensity_rgb\",\n",
    "    \"untermaederbrunnen_station3_xyz_intensity_rgb\",\n",
    "]"
   ]
  },
  {
   "cell_type": "code",
   "execution_count": 49,
   "metadata": {},
   "outputs": [],
   "source": [
    "n_bps_points = 512\n",
    "n_dims = 3\n",
    "radius = 1.5\n",
    "random_seed = 13"
   ]
  },
  {
   "cell_type": "code",
   "execution_count": 51,
   "metadata": {},
   "outputs": [
    {
     "data": {
      "text/plain": [
       "(512, 3)"
      ]
     },
     "execution_count": 51,
     "metadata": {},
     "output_type": "execute_result"
    }
   ],
   "source": [
    "for i in range (0, n_bps_points):\n",
    "    basis_set = bps.generate_random_basis(n_bps_points, n_dims=n_dims, radius=radius, random_seed=random_seed)\n",
    "    "
   ]
  },
  {
   "cell_type": "code",
   "execution_count": 116,
   "metadata": {},
   "outputs": [],
   "source": [
    "# batch of 100 point clouds to convert\n",
    "x = np.random.normal(size=[100, 2048, 3])\n",
    "\n",
    "# optional point cloud normalization to fit a unit sphere\n",
    "x = bps.normalize(x)"
   ]
  },
  {
   "cell_type": "code",
   "execution_count": 122,
   "metadata": {},
   "outputs": [],
   "source": [
    "from timeit import default_timer as timer\n",
    "import time\n",
    "from sklearn.neighbors import NearestNeighbors"
   ]
  },
  {
   "cell_type": "code",
   "execution_count": 117,
   "metadata": {},
   "outputs": [],
   "source": [
    "n_clouds, n_points, n_dims = x.shape\n",
    "n_trees = 10\n",
    "\n",
    "basis_set = bps.generate_random_basis(n_bps_points, n_dims=n_dims, radius=radius, random_seed=random_seed)\n",
    "\n",
    "n_bps_points = basis_set.shape[0]\n",
    "\n",
    "x_bps = np.zeros([n_clouds, n_bps_points])\n",
    "        \n",
    "fid_lst = range(0, x.shape[0])\n",
    "\n",
    "idx_bps = np.zeros([n_clouds, n_bps_points])"
   ]
  },
  {
   "cell_type": "markdown",
   "metadata": {},
   "source": [
    "# Bad version, saves file"
   ]
  },
  {
   "cell_type": "code",
   "execution_count": 159,
   "metadata": {},
   "outputs": [
    {
     "name": "stdout",
     "output_type": "stream",
     "text": [
      "0.8510049781762064\n"
     ]
    }
   ],
   "source": [
    "start = timer()\n",
    "for fid in fid_lst:\n",
    "    #nbrs = NearestNeighbors(n_neighbors=1, leaf_size=leaf_size, algorithm=nn_algo).fit(x[fid])\n",
    "    # Create an annoy index with euclidean as metric\n",
    "    ann = AnnoyIndex(n_dims, 'euclidean')\n",
    "\n",
    "    # Populate the rest with the input cloud\n",
    "    for in_idx, in_point in enumerate(x[fid]):\n",
    "        ann.add_item(n_bps_points+in_idx, in_point)\n",
    "\n",
    "    # Build index with n_trees\n",
    "    ann.build(1)\n",
    "\n",
    "    # Maybe unnecessary?\n",
    "    ann.save('bps.ann')\n",
    "    \n",
    "    new_ann = AnnoyIndex(n_dims, 'euclidean')\n",
    "    new_ann.load('bps.ann')\n",
    "\n",
    "    #nn_dist, nn_idx = new_ann.get_nns_by_vector([basis_set[0][0][0], b_point[0][1], b_point[0][2]], 1, include_distances=True)\n",
    "    \n",
    "    # Find nn for each point in basis point cloud\n",
    "    for b_idx, b_point in enumerate(basis_set):\n",
    "        nn_idx, nn_dist = new_ann.get_nns_by_vector([b_point[0], b_point[1], b_point[2]], 1, include_distances=True)\n",
    "        \n",
    "        idx_bps[fid][b_idx] = nn_idx[0]\n",
    "        x_bps[fid][b_idx] = nn_dist[0]\n",
    "end = timer()\n",
    "print(end-start)"
   ]
  },
  {
   "cell_type": "markdown",
   "metadata": {},
   "source": [
    "# Good version, doesnt save temporary file, which we dont need cause were querying right after building the tree.\n",
    "# The tunable parameter is the n_trees in ann.build."
   ]
  },
  {
   "cell_type": "code",
   "execution_count": 160,
   "metadata": {},
   "outputs": [
    {
     "name": "stdout",
     "output_type": "stream",
     "text": [
      "0.8276478899642825\n"
     ]
    }
   ],
   "source": [
    "start = timer()\n",
    "for fid in fid_lst:\n",
    "    #nbrs = NearestNeighbors(n_neighbors=1, leaf_size=leaf_size, algorithm=nn_algo).fit(x[fid])\n",
    "    # Create an annoy index with euclidean as metric\n",
    "    ann = AnnoyIndex(n_dims, 'euclidean')\n",
    "\n",
    "    # Populate the index with the input cloud\n",
    "    for in_idx, in_point in enumerate(x[fid]):\n",
    "        ann.add_item(in_idx, in_point)\n",
    "\n",
    "    # Build index with n_trees\n",
    "    ann.build(1)\n",
    "\n",
    "    #nn_dist, nn_idx = new_ann.get_nns_by_vector([basis_set[0][0][0], b_point[0][1], b_point[0][2]], 1, include_distances=True)\n",
    "    \n",
    "    # Find nn for each point in basis point cloud\n",
    "    for b_idx, b_point in enumerate(basis_set):\n",
    "        nn_idx, nn_dist = ann.get_nns_by_vector([b_point[0], b_point[1], b_point[2]], 1, include_distances=True)\n",
    "        \n",
    "        idx_bps[fid][b_idx] = nn_idx[0]\n",
    "        x_bps[fid][b_idx] = nn_dist[0]\n",
    "end = timer()\n",
    "print(end-start)"
   ]
  },
  {
   "cell_type": "code",
   "execution_count": 155,
   "metadata": {},
   "outputs": [
    {
     "data": {
      "text/plain": [
       "array([[0.29554352, 0.59788144, 0.49960694, ..., 0.04448119, 0.32134956,\n",
       "        0.2986187 ],\n",
       "       [0.31377131, 0.7395075 , 0.50627249, ..., 0.02094659, 0.3925654 ,\n",
       "        0.45971313],\n",
       "       [0.3412573 , 0.64127672, 0.60588777, ..., 0.01918616, 0.48762757,\n",
       "        0.29478571],\n",
       "       ...,\n",
       "       [0.34288561, 0.62626928, 0.34762919, ..., 0.03135511, 0.46728146,\n",
       "        0.38572195],\n",
       "       [0.31658003, 0.72895372, 0.3647632 , ..., 0.05716956, 0.42225581,\n",
       "        0.26511151],\n",
       "       [0.27176008, 0.81551951, 0.52390742, ..., 0.02152703, 0.57380754,\n",
       "        0.30141374]])"
      ]
     },
     "execution_count": 155,
     "metadata": {},
     "output_type": "execute_result"
    }
   ],
   "source": [
    "x_bps"
   ]
  },
  {
   "cell_type": "markdown",
   "metadata": {},
   "source": [
    "# Output of 16-leaf kd tree below for comparison, you can see that it's the same."
   ]
  },
  {
   "cell_type": "code",
   "execution_count": 161,
   "metadata": {},
   "outputs": [
    {
     "name": "stdout",
     "output_type": "stream",
     "text": [
      "0.22071778518147767\n"
     ]
    }
   ],
   "source": [
    "start = timer()\n",
    "for fid in fid_lst:\n",
    "            nbrs = NearestNeighbors(n_neighbors=1, leaf_size=16, algorithm='kd_tree').fit(x[fid])\n",
    "            fid_dist, npts_ix = nbrs.kneighbors(basis_set)\n",
    "            x_bps[fid] = fid_dist.squeeze()\n",
    "            idx_bps[fid] = npts_ix.squeeze()\n",
    "end = timer()\n",
    "print(end-start)"
   ]
  },
  {
   "cell_type": "code",
   "execution_count": 162,
   "metadata": {},
   "outputs": [
    {
     "data": {
      "text/plain": [
       "array([[0.29554354, 0.59788139, 0.49960693, ..., 0.04448117, 0.32134956,\n",
       "        0.29861869],\n",
       "       [0.3137713 , 0.73950745, 0.50627251, ..., 0.02094659, 0.39256541,\n",
       "        0.45971308],\n",
       "       [0.34125727, 0.64127665, 0.60588776, ..., 0.01918616, 0.48762751,\n",
       "        0.29478571],\n",
       "       ...,\n",
       "       [0.28899238, 0.62626925, 0.34762921, ..., 0.0313551 , 0.4672814 ,\n",
       "        0.34549797],\n",
       "       [0.31658004, 0.72895365, 0.36476322, ..., 0.05716955, 0.42225578,\n",
       "        0.26511151],\n",
       "       [0.2717601 , 0.81551941, 0.52390743, ..., 0.02152704, 0.55576275,\n",
       "        0.30141376]])"
      ]
     },
     "execution_count": 162,
     "metadata": {},
     "output_type": "execute_result"
    }
   ],
   "source": [
    "x_bps"
   ]
  }
 ],
 "metadata": {
  "kernelspec": {
   "display_name": "Python 3",
   "language": "python",
   "name": "python3"
  },
  "language_info": {
   "codemirror_mode": {
    "name": "ipython",
    "version": 3
   },
   "file_extension": ".py",
   "mimetype": "text/x-python",
   "name": "python",
   "nbconvert_exporter": "python",
   "pygments_lexer": "ipython3",
   "version": "3.8.1"
  }
 },
 "nbformat": 4,
 "nbformat_minor": 4
}
