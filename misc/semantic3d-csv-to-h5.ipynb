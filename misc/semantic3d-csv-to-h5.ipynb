{
 "cells": [
  {
   "cell_type": "code",
   "execution_count": 4,
   "metadata": {},
   "outputs": [],
   "source": [
    "import pandas as pd\n",
    "import numpy as np\n",
    "import torch as pt\n",
    "import os"
   ]
  },
  {
   "cell_type": "code",
   "execution_count": 5,
   "metadata": {},
   "outputs": [],
   "source": [
    "def read_points(f):\n",
    "    # reads Semantic3D .txt file f into a pandas dataframe\n",
    "    col_names = ['x', 'y', 'z', 'i', 'r', 'g', 'b']\n",
    "    col_dtype = {'x': np.float32, 'y': np.float32, 'z': np.float32, 'i': np.int32,\n",
    "                  'r': np.uint8, 'g': np.uint8, 'b': np.uint8}\n",
    "    return pd.read_csv(f, names=col_names, dtype=col_dtype, delim_whitespace=True)\n",
    "\n",
    "def read_labels(f):\n",
    "    col_names = ['label']\n",
    "    col_dtype = {'label': np.uint8}\n",
    "    return pd.read_csv(f, names=col_names, dtype=col_dtype, delim_whitespace=True)#[0].values"
   ]
  },
  {
   "cell_type": "code",
   "execution_count": 7,
   "metadata": {},
   "outputs": [],
   "source": [
    "data_path = os.path.join(os.sep, 'data')\n",
    "train_path = os.path.join(data_path, 'train')"
   ]
  },
  {
   "cell_type": "code",
   "execution_count": 8,
   "metadata": {},
   "outputs": [],
   "source": [
    "# Same files for both reduced-8 and semantic-8\n",
    "train_files = [\n",
    "    \"bildstein_station1_xyz_intensity_rgb\",\n",
    "    \"bildstein_station3_xyz_intensity_rgb\",\n",
    "    \"bildstein_station5_xyz_intensity_rgb\",\n",
    "    \"domfountain_station1_xyz_intensity_rgb\",\n",
    "    \"domfountain_station2_xyz_intensity_rgb\",\n",
    "    \"domfountain_station3_xyz_intensity_rgb\",\n",
    "    \"neugasse_station1_xyz_intensity_rgb\",\n",
    "    \"sg27_station1_intensity_rgb\",\n",
    "    \"sg27_station2_intensity_rgb\",\n",
    "    \"sg27_station4_intensity_rgb\",\n",
    "    \"sg27_station5_intensity_rgb\",\n",
    "    \"sg27_station9_intensity_rgb\",\n",
    "    \"sg28_station4_intensity_rgb\",\n",
    "    \"untermaederbrunnen_station1_xyz_intensity_rgb\",\n",
    "    \"untermaederbrunnen_station3_xyz_intensity_rgb\",\n",
    "]"
   ]
  },
  {
   "cell_type": "code",
   "execution_count": 9,
   "metadata": {},
   "outputs": [],
   "source": [
    "from tqdm import tqdm"
   ]
  },
  {
   "cell_type": "code",
   "execution_count": 24,
   "metadata": {},
   "outputs": [
    {
     "name": "stderr",
     "output_type": "stream",
     "text": [
      "\n",
      "  0%|          | 0/15 [00:00<?, ?it/s]\u001b[A"
     ]
    },
    {
     "name": "stdout",
     "output_type": "stream",
     "text": [
      "/media/add320/riccardo/data/train/bildstein_station1_xyz_intensity_rgb/bildstein_station1_xyz_intensity_rgb.txt\n"
     ]
    },
    {
     "name": "stderr",
     "output_type": "stream",
     "text": [
      "\n",
      "  7%|▋         | 1/15 [00:12<02:48, 12.06s/it]\u001b[A"
     ]
    },
    {
     "name": "stdout",
     "output_type": "stream",
     "text": [
      "/media/add320/riccardo/data/train/bildstein_station3_xyz_intensity_rgb/bildstein_station3_xyz_intensity_rgb.txt\n"
     ]
    },
    {
     "name": "stderr",
     "output_type": "stream",
     "text": [
      "\n",
      " 13%|█▎        | 2/15 [00:21<02:28, 11.42s/it]\u001b[A"
     ]
    },
    {
     "name": "stdout",
     "output_type": "stream",
     "text": [
      "/media/add320/riccardo/data/train/bildstein_station5_xyz_intensity_rgb/bildstein_station5_xyz_intensity_rgb.txt\n"
     ]
    },
    {
     "name": "stderr",
     "output_type": "stream",
     "text": [
      "\n",
      " 20%|██        | 3/15 [00:31<02:09, 10.80s/it]\u001b[A"
     ]
    },
    {
     "name": "stdout",
     "output_type": "stream",
     "text": [
      "/media/add320/riccardo/data/train/domfountain_station1_xyz_intensity_rgb/domfountain_station1_xyz_intensity_rgb.txt\n"
     ]
    },
    {
     "name": "stderr",
     "output_type": "stream",
     "text": [
      "\n",
      " 27%|██▋       | 4/15 [00:47<02:16, 12.44s/it]\u001b[A"
     ]
    },
    {
     "name": "stdout",
     "output_type": "stream",
     "text": [
      "/media/add320/riccardo/data/train/domfountain_station2_xyz_intensity_rgb/domfountain_station2_xyz_intensity_rgb.txt\n"
     ]
    },
    {
     "name": "stderr",
     "output_type": "stream",
     "text": [
      "\n",
      " 33%|███▎      | 5/15 [01:02<02:11, 13.12s/it]\u001b[A"
     ]
    },
    {
     "name": "stdout",
     "output_type": "stream",
     "text": [
      "/media/add320/riccardo/data/train/domfountain_station3_xyz_intensity_rgb/domfountain_station3_xyz_intensity_rgb.txt\n"
     ]
    },
    {
     "name": "stderr",
     "output_type": "stream",
     "text": [
      "\n",
      " 40%|████      | 6/15 [01:14<01:56, 12.98s/it]\u001b[A"
     ]
    },
    {
     "name": "stdout",
     "output_type": "stream",
     "text": [
      "/media/add320/riccardo/data/train/neugasse_station1_xyz_intensity_rgb/neugasse_station1_xyz_intensity_rgb.txt\n"
     ]
    },
    {
     "name": "stderr",
     "output_type": "stream",
     "text": [
      "\n",
      " 47%|████▋     | 7/15 [01:40<02:14, 16.84s/it]\u001b[A"
     ]
    },
    {
     "name": "stdout",
     "output_type": "stream",
     "text": [
      "/media/add320/riccardo/data/train/sg27_station1_intensity_rgb/sg27_station1_intensity_rgb.txt\n"
     ]
    },
    {
     "name": "stderr",
     "output_type": "stream",
     "text": [
      "\n",
      " 53%|█████▎    | 8/15 [04:31<07:21, 63.12s/it]\u001b[A"
     ]
    },
    {
     "name": "stdout",
     "output_type": "stream",
     "text": [
      "/media/add320/riccardo/data/train/sg27_station2_intensity_rgb/sg27_station2_intensity_rgb.txt\n"
     ]
    },
    {
     "name": "stderr",
     "output_type": "stream",
     "text": [
      "\n",
      " 60%|██████    | 9/15 [08:51<12:13, 122.20s/it]\u001b[A"
     ]
    },
    {
     "name": "stdout",
     "output_type": "stream",
     "text": [
      "/media/add320/riccardo/data/train/sg27_station4_intensity_rgb/sg27_station4_intensity_rgb.txt\n"
     ]
    },
    {
     "name": "stderr",
     "output_type": "stream",
     "text": [
      "\n",
      " 67%|██████▋   | 10/15 [11:21<10:51, 130.33s/it]\u001b[A"
     ]
    },
    {
     "name": "stdout",
     "output_type": "stream",
     "text": [
      "/media/add320/riccardo/data/train/sg27_station5_intensity_rgb/sg27_station5_intensity_rgb.txt\n"
     ]
    },
    {
     "name": "stderr",
     "output_type": "stream",
     "text": [
      "\n",
      " 73%|███████▎  | 11/15 [13:21<08:28, 127.19s/it]\u001b[A"
     ]
    },
    {
     "name": "stdout",
     "output_type": "stream",
     "text": [
      "/media/add320/riccardo/data/train/sg27_station9_intensity_rgb/sg27_station9_intensity_rgb.txt\n"
     ]
    },
    {
     "name": "stderr",
     "output_type": "stream",
     "text": [
      "\n",
      " 80%|████████  | 12/15 [15:23<06:17, 125.89s/it]\u001b[A"
     ]
    },
    {
     "name": "stdout",
     "output_type": "stream",
     "text": [
      "/media/add320/riccardo/data/train/sg28_station4_intensity_rgb/sg28_station4_intensity_rgb.txt\n"
     ]
    },
    {
     "name": "stderr",
     "output_type": "stream",
     "text": [
      "\n",
      " 87%|████████▋ | 13/15 [17:48<04:22, 131.39s/it]\u001b[A"
     ]
    },
    {
     "name": "stdout",
     "output_type": "stream",
     "text": [
      "/media/add320/riccardo/data/train/untermaederbrunnen_station1_xyz_intensity_rgb/untermaederbrunnen_station1_xyz_intensity_rgb.txt\n"
     ]
    },
    {
     "name": "stderr",
     "output_type": "stream",
     "text": [
      "\n",
      " 93%|█████████▎| 14/15 [18:03<01:36, 96.63s/it] \u001b[A"
     ]
    },
    {
     "name": "stdout",
     "output_type": "stream",
     "text": [
      "/media/add320/riccardo/data/train/untermaederbrunnen_station3_xyz_intensity_rgb/untermaederbrunnen_station3_xyz_intensity_rgb.txt\n"
     ]
    },
    {
     "name": "stderr",
     "output_type": "stream",
     "text": [
      "\n",
      "100%|██████████| 15/15 [18:19<00:00, 73.27s/it]"
     ]
    },
    {
     "name": "stdout",
     "output_type": "stream",
     "text": [
      "[                  x          y       z     i    r    g    b\n",
      "0         20.622999  40.276001  -1.999 -1031  127  141  154\n",
      "1         20.362000  40.375000  -2.239  -941  130  141  159\n",
      "2         20.360001  40.375999  -2.402 -1083  139  151  165\n",
      "3         20.374001  40.367001  -2.405 -1122  131  147  163\n",
      "4         20.372000  40.366001  -2.405 -1165  132  145  161\n",
      "...             ...        ...     ...   ...  ...  ...  ...\n",
      "29697586  60.185001  82.120003  11.030 -1550   74   88  114\n",
      "29697587  60.042999  81.584000  11.039 -1539   84   90  124\n",
      "29697588  60.122002  81.777000  11.115 -1760  129  141  165\n",
      "29697589  60.088001  81.818001  11.054 -1625   90   96  128\n",
      "29697590  60.196999  82.137001  11.085 -1619  134  140  172\n",
      "\n",
      "[29697591 rows x 7 columns],                    x           y       z     i    r    g    b\n",
      "0          -0.003000  -31.752001  -2.618  -134  130  146  162\n",
      "1          -0.001000  -31.756001  -2.807   -89  142  157  178\n",
      "2          -0.002000  -31.759001  -2.899  -281  144  157  176\n",
      "3          -0.002000  -31.759001  -2.902  -162  143  156  175\n",
      "4          -0.003000  -31.759001  -2.902  -113  143  156  175\n",
      "...              ...         ...     ...   ...  ...  ...  ...\n",
      "23995476    1.495000  134.324005  11.916 -1699   92  102  104\n",
      "23995477    1.429000  134.479996  11.650 -1742   80   90  100\n",
      "23995478    1.429000  134.438004  11.715 -1688   81   82   87\n",
      "23995479   91.709999  147.619995  11.829 -1514   94   94   96\n",
      "23995480  106.241997  148.647995  15.233 -1696   58   62   71\n",
      "\n",
      "[23995481 rows x 7 columns],                   x          y      z     i    r    g    b\n",
      "0        -11.121000  -0.116000  1.057  -699  102  112  124\n",
      "1        -11.252000  -0.064000  1.102  -576  113  122  137\n",
      "2        -11.251000  -0.064000  1.103  -556  113  122  137\n",
      "3        -11.255000  -0.063000  1.105  -646  111  120  135\n",
      "4        -11.252000  -0.064000  1.073  -678  108  117  132\n",
      "...             ...        ...    ...   ...  ...  ...  ...\n",
      "24919493  32.007000  44.130001  3.714 -1489   64   72   85\n",
      "24919494  32.396999  44.622002  3.525 -1322   75   82   98\n",
      "24919495  32.373001  44.539001  3.516 -1334   71   81   93\n",
      "24919496  32.358002  44.568001  3.549 -1529   77   81   93\n",
      "24919497  32.443001  44.685001  3.503 -1376   78   91  107\n",
      "\n",
      "[24919498 rows x 7 columns],                   x          y      z     i    r    g    b\n",
      "0        -22.586000 -72.367996  0.640 -1365  227  226  231\n",
      "1        -22.580000 -72.500000 -0.009 -1353   82   87  107\n",
      "2        -22.603001 -72.498001 -0.030 -1367   96  108  134\n",
      "3        -22.511000 -72.496002 -0.050 -1349   85   82   91\n",
      "4        -22.511999 -72.499001 -0.037 -1368   83   80   89\n",
      "...             ...        ...    ...   ...  ...  ...  ...\n",
      "44990636  -3.107000  -6.774000 -0.343 -1575  220  220  222\n",
      "44990637  -3.104000  -6.777000 -0.342 -1116  213  226  234\n",
      "44990638  -3.103000  -6.775000 -0.343 -1213  217  226  235\n",
      "44990639  -3.107000  -6.771000 -0.343 -1358  225  223  226\n",
      "44990640  -3.118000  -6.769000 -0.327 -1697  223  222  227\n",
      "\n",
      "[44990641 rows x 7 columns],                   x           y       z     i    r    g    b\n",
      "0        -35.995998 -195.891006  -2.540 -1661   43   64   83\n",
      "1        -45.546001 -247.865005  -3.341 -1742   81  104  158\n",
      "2        -23.809000 -147.423004  -1.346 -1686  255  255  255\n",
      "3        -23.811001 -147.431000  -1.327 -1319  255  255  255\n",
      "4        -35.448002 -167.011993  -0.830 -1658  116  126  128\n",
      "...             ...         ...     ...   ...  ...  ...  ...\n",
      "41268283  26.973000   19.943001   8.569 -1670   84   98  107\n",
      "41268284  26.903000   19.354000   8.377 -1683  115  128  137\n",
      "41268285  26.945000   19.756001   8.498 -1732  123  136  144\n",
      "41268286  26.917000   19.570000   8.445 -1752  121  133  145\n",
      "41268287  26.325001   16.013000  10.232 -1725   46   47   51\n",
      "\n",
      "[41268288 rows x 7 columns],                   x          y      z     i   r   g   b\n",
      "0         38.240002 -34.738998 -0.503 -1385  77  79  78\n",
      "1        -16.490000  -6.881000 -1.962 -1245  24  24  24\n",
      "2        -16.487000  -6.831000 -1.961 -1347  25  23  26\n",
      "3        -16.476000  -6.827000 -1.968 -1321  24  24  26\n",
      "4        -16.481001  -6.829000 -1.978 -1355  23  24  26\n",
      "...             ...        ...    ...   ...  ..  ..  ..\n",
      "35207284   4.157000  17.283001 -1.165  -728  60  64  75\n",
      "35207285   4.159000  17.284000 -1.165  -662  59  63  74\n",
      "35207286   4.159000  17.285000 -1.163  -601  59  63  74\n",
      "35207287   4.157000  17.284000 -1.164  -683  59  63  74\n",
      "35207288   4.157000  17.284000 -1.162  -650  59  63  74\n",
      "\n",
      "[35207289 rows x 7 columns],                    x          y      z     i    r    g    b\n",
      "0           5.000000 -21.636999  0.013 -1073  110  120  129\n",
      "1           5.095000 -22.186001 -0.133    13  108  122  135\n",
      "2           5.484000 -23.875999 -0.143  -531  109  123  136\n",
      "3           5.482000 -23.875000 -0.141  -330   95  109  122\n",
      "4           5.482000 -23.878000 -0.142  -416  108  122  135\n",
      "...              ...        ...    ...   ...  ...  ...  ...\n",
      "50122459  215.326004  40.641998  4.680 -1378   57   61   70\n",
      "50122460  215.322006  40.752998  4.947 -1421   58   72   81\n",
      "50122461  214.947006  40.013000  6.160 -1663   42   48   60\n",
      "50122462  249.878998  43.025002  8.261 -1714  112  118  132\n",
      "50122463  261.178986  39.595001  1.333 -1725   11   14   19\n",
      "\n",
      "[50122464 rows x 7 columns],                    x           y      z     i   r   g   b\n",
      "0         -61.247002  -33.708000  6.269  -498  79  61  57\n",
      "1         -61.245998  -33.708000  6.280  -520  79  60  56\n",
      "2         -61.243000  -33.706001  6.291  -532  77  60  57\n",
      "3         -62.174000  -35.758999  7.301 -1051  61  53  49\n",
      "4         -62.181999  -35.763000  7.313 -1390  61  53  49\n",
      "...              ...         ...    ...   ...  ..  ..  ..\n",
      "322088557   6.820000  104.003998  4.322  -735  24  18  20\n",
      "322088558   6.820000  104.003998  4.338  -927  24  18  20\n",
      "322088559   6.983000  104.000999  4.338 -1609  26  20  20\n",
      "322088560   6.968000  104.000999  4.322 -1227  17  13  12\n",
      "322088561   6.982000  104.000000  4.355 -1500  26  20  20\n",
      "\n",
      "[322088562 rows x 7 columns],                     x          y       z     i    r    g    b\n",
      "0          -79.001999  15.598000  10.773 -1709  152  126   99\n",
      "1         -101.685997  25.760000  15.934 -1111   32   22   21\n",
      "2         -101.842003  25.563999  15.966 -1279  131  102   84\n",
      "3         -100.772003  19.358000  15.901 -1583   49   30   26\n",
      "4         -100.899002  19.025999  15.927 -1099  140  114   87\n",
      "...               ...        ...     ...   ...  ...  ...  ...\n",
      "496702856   42.522999  94.654999   2.515  -939  145  112  118\n",
      "496702857   42.537998  94.648003   2.515  -966  153  122  128\n",
      "496702858   42.554001  94.646004   2.516 -1101  151  121  125\n",
      "496702859   42.539001  94.650002   2.532 -1263  143  111  117\n",
      "496702860   42.551998  94.640999   2.531 -1479  140  108  113\n",
      "\n",
      "[496702861 rows x 7 columns],                    x          y      z     i    r    g    b\n",
      "0          20.997000 -16.013000 -0.002 -1650  136  116  132\n",
      "1         -97.017998  -0.088000 -0.003  -601   64   39   42\n",
      "2         -97.032997  -0.071000 -0.004  -577   64   39   42\n",
      "3         -89.455002 -85.585999 -7.249 -1538  254  228  190\n",
      "4         -84.884003 -81.696999 -6.917 -1123  251  227  190\n",
      "...              ...        ...    ...   ...  ...  ...  ...\n",
      "280994771  29.462999  68.362999  2.390 -1752   38   27   25\n",
      "280994772  28.959000  65.066002  4.480 -1329   39   28   24\n",
      "280994773  28.947001  65.066002  4.479 -1408   41   30   26\n",
      "280994774  28.981001  65.113998  4.472 -1270   39   28   24\n",
      "280994775  28.966999  65.112999  4.472 -1475   41   30   26\n",
      "\n",
      "[280994776 rows x 7 columns],                    x          y      z     i    r    g    b\n",
      "0          20.785999 -17.813000 -2.173 -1624  226  181  184\n",
      "1         -73.064003 -61.097000 -0.105 -1329   26   18   18\n",
      "2         -73.012001 -61.091999 -0.090 -1464   30   25   26\n",
      "3         -73.500000 -83.971001 -2.612 -1414  171  141  151\n",
      "4         -73.498001 -83.969002 -2.542  -971  184  153  161\n",
      "...              ...        ...    ...   ...  ...  ...  ...\n",
      "218272129  58.000000  97.755997  3.083 -1159   21   15   15\n",
      "218272130  58.009998  97.773003  3.066 -1355   23   17   17\n",
      "218272131  58.084999  97.900002  3.017 -1254   27   18   19\n",
      "218272132  58.158001  97.883003  3.018  -957   30   22   22\n",
      "218272133  58.141998  97.891998  3.018  -891   29   21   22\n",
      "\n",
      "[218272134 rows x 7 columns],                     x           y      z     i   r   g   b\n",
      "0           22.222000  -19.669001 -0.110 -1963  10   9  13\n",
      "1         -107.128998  -19.455000 -0.577  -998  58  46  44\n",
      "2         -107.152000  -19.441999 -0.578  -907  58  45  44\n",
      "3           -2.594000  -81.151001 -0.757 -1693  70  64  70\n",
      "4          -39.202000 -100.605003 -0.006  -987  50  46  51\n",
      "...               ...         ...    ...   ...  ..  ..  ..\n",
      "222908907   70.433998   96.712997  8.264  -873  57  44  38\n",
      "222908908   70.442001   96.692001  8.281  -982  61  48  42\n",
      "222908909   70.444000   96.695000  8.262  -909  57  44  38\n",
      "222908910   70.421997   96.695000  8.318 -1570  60  47  41\n",
      "222908911   70.004997   97.652000  8.769 -1268  41  27  24\n",
      "\n",
      "[222908912 rows x 7 columns],                    x           y      z     i    r    g    b\n",
      "0          20.764000  -17.844000 -1.985 -1615  239  209  221\n",
      "1          -9.202000   -0.023000 -0.816 -1132  114   89   68\n",
      "2          -9.198000   -0.025000 -0.815 -1183  102   77   56\n",
      "3          -9.200000   -0.026000 -0.817 -1275   98   75   54\n",
      "4          -9.200000   -0.025000 -0.820 -1173  104   82   63\n",
      "...              ...         ...    ...   ...  ...  ...  ...\n",
      "258720943  54.626999  108.795998  0.145 -1555   41   39   43\n",
      "258720944  54.665001  108.781998  0.126 -1555   43   39   43\n",
      "258720945  54.696999  108.757004  0.184 -1404   39   34   37\n",
      "258720946  54.701000  108.763000  0.146 -1442   47   41   45\n",
      "258720947  54.698002  108.759003  0.165 -1442   39   34   37\n",
      "\n",
      "[258720948 rows x 7 columns],                    x          y      z     i    r    g    b\n",
      "0          17.834999  -1.195000 -1.742 -1836  168  184  195\n",
      "1          17.813000  -1.199000 -1.740 -1816  173  189  202\n",
      "2          15.841000  -1.067000 -1.720 -1964  168  190  203\n",
      "3          14.674000  -1.252000 -1.270  -877   78   85   92\n",
      "4          14.499000  -1.092000 -1.697 -1138   96   98  103\n",
      "...              ...        ...    ...   ...  ...  ...  ...\n",
      "27977424  115.164001  32.209999  1.795 -1649  113  132  146\n",
      "27977425  116.575996  32.448002  1.741 -1824  109  127  139\n",
      "27977426  116.542000  32.438999  1.817 -1824   99  115  128\n",
      "27977427  112.857002  32.096001  4.328 -1777   96  106  116\n",
      "27977428  112.865997  32.021999  4.327 -1318  100  104  115\n",
      "\n",
      "[27977429 rows x 7 columns],                x          y      z     i    r    g    b\n",
      "0        -12.345 -20.065001 -1.481  -876  107  114  107\n",
      "1        -12.347 -20.069000 -1.478  -866  106  112  107\n",
      "2        -12.345 -20.063999 -1.474  -778  105  111  105\n",
      "3        -12.344 -20.063000 -1.510 -1068  107  115  110\n",
      "4        -12.312 -20.004000 -1.809 -1674   76   83   82\n",
      "...          ...        ...    ...   ...  ...  ...  ...\n",
      "28059314  11.003  18.820000  2.649 -2027   23   23   25\n",
      "28059315  11.252  18.759001  2.574 -2021   21   22   27\n",
      "28059316  11.253  18.761000  2.547 -2014   21   22   26\n",
      "28059317  11.255  18.763000  2.533 -2011   21   22   26\n",
      "28059318  11.259  18.771000  2.521 -2014   21   22   27\n",
      "\n",
      "[28059319 rows x 7 columns]]\n"
     ]
    },
    {
     "name": "stderr",
     "output_type": "stream",
     "text": [
      "\n"
     ]
    }
   ],
   "source": [
    "points = []\n",
    "\n",
    "for f in tqdm(train_files):\n",
    "    f_ext = f + '.txt'\n",
    "    inpath = os.path.join(train_path, f, f_ext)\n",
    "    print(inpath)\n",
    "    points.append(read_points(inpath))\n",
    "    \n",
    "print(points)"
   ]
  },
  {
   "cell_type": "code",
   "execution_count": 27,
   "metadata": {},
   "outputs": [],
   "source": [
    "import torch.utils.data\n",
    "import torch.nn as nn\n",
    "import torch.nn.functional as F\n",
    "import multiprocessing"
   ]
  },
  {
   "cell_type": "code",
   "execution_count": 28,
   "metadata": {},
   "outputs": [
    {
     "name": "stdout",
     "output_type": "stream",
     "text": [
      "GPU device found...\n"
     ]
    }
   ],
   "source": [
    "N_BPS_POINTS = 512\n",
    "BPS_RADIUS = 1.7\n",
    "\n",
    "N_CPUS = multiprocessing.cpu_count()\n",
    "N_GPUS = torch.cuda.device_count()\n",
    "\n",
    "if N_GPUS > 0:\n",
    "    DEVICE = 'cuda'\n",
    "    print(\"GPU device found...\")\n",
    "else:\n",
    "    DEVICE = 'cpu'\n",
    "    print(\"GPU device not found, using %d CPU(s)...\" % N_CPUS)\n"
   ]
  },
  {
   "cell_type": "code",
   "execution_count": 42,
   "metadata": {},
   "outputs": [
    {
     "name": "stdout",
     "output_type": "stream",
     "text": [
      "<class 'pandas.core.frame.DataFrame'>\n",
      "RangeIndex: 29697591 entries, 0 to 29697590\n",
      "Data columns (total 7 columns):\n",
      "x    float32\n",
      "y    float32\n",
      "z    float32\n",
      "i    int32\n",
      "r    uint8\n",
      "g    uint8\n",
      "b    uint8\n",
      "dtypes: float32(3), int32(1), uint8(3)\n",
      "memory usage: 538.1 MB\n"
     ]
    }
   ],
   "source": [
    "len(points[0])\n",
    "points[0].info()"
   ]
  },
  {
   "cell_type": "code",
   "execution_count": 43,
   "metadata": {},
   "outputs": [
    {
     "name": "stdout",
     "output_type": "stream",
     "text": [
      "[[ 20.62299919  40.27600098  -1.99899995 ... 127.         141.\n",
      "  154.        ]\n",
      " [ 20.36199951  40.375       -2.23900008 ... 130.         141.\n",
      "  159.        ]\n",
      " [ 20.36000061  40.37599945  -2.40199995 ... 139.         151.\n",
      "  165.        ]\n",
      " ...\n",
      " [ 60.12200165  81.77700043  11.11499977 ... 129.         141.\n",
      "  165.        ]\n",
      " [ 60.08800125  81.81800079  11.0539999  ...  90.          96.\n",
      "  128.        ]\n",
      " [ 60.1969986   82.13700104  11.08500004 ... 134.         140.\n",
      "  172.        ]]\n"
     ]
    },
    {
     "data": {
      "text/plain": [
       "(29697591, 7)"
      ]
     },
     "execution_count": 43,
     "metadata": {},
     "output_type": "execute_result"
    }
   ],
   "source": [
    "test = points[0].to_numpy()\n",
    "print(test)\n",
    "test.shape\n",
    "#%xdel test"
   ]
  },
  {
   "cell_type": "code",
   "execution_count": 48,
   "metadata": {},
   "outputs": [
    {
     "data": {
      "text/plain": [
       "(29697591, 7)"
      ]
     },
     "execution_count": 48,
     "metadata": {},
     "output_type": "execute_result"
    }
   ],
   "source": [
    "x = np.array_split(test, 2048)\n",
    "test.shape"
   ]
  },
  {
   "cell_type": "code",
   "execution_count": 55,
   "metadata": {},
   "outputs": [
    {
     "data": {
      "text/plain": [
       "2048"
      ]
     },
     "execution_count": 55,
     "metadata": {},
     "output_type": "execute_result"
    }
   ],
   "source": [
    "len(x)"
   ]
  },
  {
   "cell_type": "code",
   "execution_count": 57,
   "metadata": {},
   "outputs": [],
   "source": [
    "import h5py"
   ]
  },
  {
   "cell_type": "code",
   "execution_count": 64,
   "metadata": {},
   "outputs": [
    {
     "name": "stdout",
     "output_type": "stream",
     "text": [
      "/media/add320/riccardo/data/train/labels/bildstein_station1_xyz_intensity_rgb.labels\n"
     ]
    }
   ],
   "source": [
    "# Read labels for first point cloud into pandas dataframe\n",
    "cloud0 = train_files[0] + '.labels'\n",
    "inpath = os.path.join(train_path, 'labels', cloud0)\n",
    "print(inpath)\n",
    "cloud0_labels = read_labels(inpath)"
   ]
  },
  {
   "cell_type": "code",
   "execution_count": 66,
   "metadata": {},
   "outputs": [
    {
     "name": "stdout",
     "output_type": "stream",
     "text": [
      "          label\n",
      "0             0\n",
      "1             0\n",
      "2             6\n",
      "3             0\n",
      "4             0\n",
      "...         ...\n",
      "29697586      0\n",
      "29697587      0\n",
      "29697588      0\n",
      "29697589      0\n",
      "29697590      0\n",
      "\n",
      "[29697591 rows x 1 columns]\n",
      "<class 'pandas.core.frame.DataFrame'>\n",
      "RangeIndex: 29697591 entries, 0 to 29697590\n",
      "Data columns (total 1 columns):\n",
      "label    uint8\n",
      "dtypes: uint8(1)\n",
      "memory usage: 28.3 MB\n"
     ]
    }
   ],
   "source": [
    "print(cloud0_labels)\n",
    "cloud0_labels.info()"
   ]
  },
  {
   "cell_type": "code",
   "execution_count": 68,
   "metadata": {},
   "outputs": [
    {
     "name": "stdout",
     "output_type": "stream",
     "text": [
      "                  x          y       z     i    r    g    b  label\n",
      "0         20.622999  40.276001  -1.999 -1031  127  141  154      0\n",
      "1         20.362000  40.375000  -2.239  -941  130  141  159      0\n",
      "2         20.360001  40.375999  -2.402 -1083  139  151  165      6\n",
      "3         20.374001  40.367001  -2.405 -1122  131  147  163      0\n",
      "4         20.372000  40.366001  -2.405 -1165  132  145  161      0\n",
      "...             ...        ...     ...   ...  ...  ...  ...    ...\n",
      "29697586  60.185001  82.120003  11.030 -1550   74   88  114      0\n",
      "29697587  60.042999  81.584000  11.039 -1539   84   90  124      0\n",
      "29697588  60.122002  81.777000  11.115 -1760  129  141  165      0\n",
      "29697589  60.088001  81.818001  11.054 -1625   90   96  128      0\n",
      "29697590  60.196999  82.137001  11.085 -1619  134  140  172      0\n",
      "\n",
      "[29697591 rows x 8 columns]\n"
     ]
    }
   ],
   "source": [
    "# Append labels for first point cloud to the existing pd dataframe for the cloud\n",
    "labeled_cloud0 = points[0].join(cloud0_labels)\n",
    "print(labeled_cloud0)"
   ]
  },
  {
   "cell_type": "code",
   "execution_count": 71,
   "metadata": {},
   "outputs": [
    {
     "name": "stdout",
     "output_type": "stream",
     "text": [
      "bildstein_station1_xyz_intensity_rgb.h5\n",
      "/media/add320/riccardo/data/hdf5/train/bildstein_station1_xyz_intensity_rgb.h5\n"
     ]
    }
   ],
   "source": [
    "# Save labeled cloud to its individual hdf5\n",
    "hdf5_path = os.path.join(data_path, 'hdf5')\n",
    "hdf5_train_path = os.path.join(hdf5_path, 'train')\n",
    "filename = train_files[0] + '.h5'\n",
    "print(filename)\n",
    "hdf5_filepath = os.path.join(hdf5_train_path, filename)\n",
    "print(hdf5_filepath)"
   ]
  },
  {
   "cell_type": "code",
   "execution_count": 111,
   "metadata": {},
   "outputs": [],
   "source": [
    "store = pd.HDFStore(hdf5_filepath, mode='w', compression='lz4')"
   ]
  },
  {
   "cell_type": "code",
   "execution_count": 112,
   "metadata": {},
   "outputs": [
    {
     "name": "stdout",
     "output_type": "stream",
     "text": [
      "<class 'pandas.io.pytables.HDFStore'>\n",
      "File path: /media/add320/riccardo/data/hdf5/train/bildstein_station1_xyz_intensity_rgb.h5\n",
      "\n"
     ]
    }
   ],
   "source": [
    "print(store)\n",
    "store['0'] = labeled_cloud0"
   ]
  },
  {
   "cell_type": "code",
   "execution_count": 113,
   "metadata": {},
   "outputs": [
    {
     "data": {
      "text/html": [
       "<div>\n",
       "<style scoped>\n",
       "    .dataframe tbody tr th:only-of-type {\n",
       "        vertical-align: middle;\n",
       "    }\n",
       "\n",
       "    .dataframe tbody tr th {\n",
       "        vertical-align: top;\n",
       "    }\n",
       "\n",
       "    .dataframe thead th {\n",
       "        text-align: right;\n",
       "    }\n",
       "</style>\n",
       "<table border=\"1\" class=\"dataframe\">\n",
       "  <thead>\n",
       "    <tr style=\"text-align: right;\">\n",
       "      <th></th>\n",
       "      <th>x</th>\n",
       "      <th>y</th>\n",
       "      <th>z</th>\n",
       "      <th>i</th>\n",
       "      <th>r</th>\n",
       "      <th>g</th>\n",
       "      <th>b</th>\n",
       "      <th>label</th>\n",
       "    </tr>\n",
       "  </thead>\n",
       "  <tbody>\n",
       "    <tr>\n",
       "      <td>0</td>\n",
       "      <td>20.622999</td>\n",
       "      <td>40.276001</td>\n",
       "      <td>-1.999</td>\n",
       "      <td>-1031</td>\n",
       "      <td>127</td>\n",
       "      <td>141</td>\n",
       "      <td>154</td>\n",
       "      <td>0</td>\n",
       "    </tr>\n",
       "    <tr>\n",
       "      <td>1</td>\n",
       "      <td>20.362000</td>\n",
       "      <td>40.375000</td>\n",
       "      <td>-2.239</td>\n",
       "      <td>-941</td>\n",
       "      <td>130</td>\n",
       "      <td>141</td>\n",
       "      <td>159</td>\n",
       "      <td>0</td>\n",
       "    </tr>\n",
       "    <tr>\n",
       "      <td>2</td>\n",
       "      <td>20.360001</td>\n",
       "      <td>40.375999</td>\n",
       "      <td>-2.402</td>\n",
       "      <td>-1083</td>\n",
       "      <td>139</td>\n",
       "      <td>151</td>\n",
       "      <td>165</td>\n",
       "      <td>6</td>\n",
       "    </tr>\n",
       "    <tr>\n",
       "      <td>3</td>\n",
       "      <td>20.374001</td>\n",
       "      <td>40.367001</td>\n",
       "      <td>-2.405</td>\n",
       "      <td>-1122</td>\n",
       "      <td>131</td>\n",
       "      <td>147</td>\n",
       "      <td>163</td>\n",
       "      <td>0</td>\n",
       "    </tr>\n",
       "    <tr>\n",
       "      <td>4</td>\n",
       "      <td>20.372000</td>\n",
       "      <td>40.366001</td>\n",
       "      <td>-2.405</td>\n",
       "      <td>-1165</td>\n",
       "      <td>132</td>\n",
       "      <td>145</td>\n",
       "      <td>161</td>\n",
       "      <td>0</td>\n",
       "    </tr>\n",
       "    <tr>\n",
       "      <td>...</td>\n",
       "      <td>...</td>\n",
       "      <td>...</td>\n",
       "      <td>...</td>\n",
       "      <td>...</td>\n",
       "      <td>...</td>\n",
       "      <td>...</td>\n",
       "      <td>...</td>\n",
       "      <td>...</td>\n",
       "    </tr>\n",
       "    <tr>\n",
       "      <td>29697586</td>\n",
       "      <td>60.185001</td>\n",
       "      <td>82.120003</td>\n",
       "      <td>11.030</td>\n",
       "      <td>-1550</td>\n",
       "      <td>74</td>\n",
       "      <td>88</td>\n",
       "      <td>114</td>\n",
       "      <td>0</td>\n",
       "    </tr>\n",
       "    <tr>\n",
       "      <td>29697587</td>\n",
       "      <td>60.042999</td>\n",
       "      <td>81.584000</td>\n",
       "      <td>11.039</td>\n",
       "      <td>-1539</td>\n",
       "      <td>84</td>\n",
       "      <td>90</td>\n",
       "      <td>124</td>\n",
       "      <td>0</td>\n",
       "    </tr>\n",
       "    <tr>\n",
       "      <td>29697588</td>\n",
       "      <td>60.122002</td>\n",
       "      <td>81.777000</td>\n",
       "      <td>11.115</td>\n",
       "      <td>-1760</td>\n",
       "      <td>129</td>\n",
       "      <td>141</td>\n",
       "      <td>165</td>\n",
       "      <td>0</td>\n",
       "    </tr>\n",
       "    <tr>\n",
       "      <td>29697589</td>\n",
       "      <td>60.088001</td>\n",
       "      <td>81.818001</td>\n",
       "      <td>11.054</td>\n",
       "      <td>-1625</td>\n",
       "      <td>90</td>\n",
       "      <td>96</td>\n",
       "      <td>128</td>\n",
       "      <td>0</td>\n",
       "    </tr>\n",
       "    <tr>\n",
       "      <td>29697590</td>\n",
       "      <td>60.196999</td>\n",
       "      <td>82.137001</td>\n",
       "      <td>11.085</td>\n",
       "      <td>-1619</td>\n",
       "      <td>134</td>\n",
       "      <td>140</td>\n",
       "      <td>172</td>\n",
       "      <td>0</td>\n",
       "    </tr>\n",
       "  </tbody>\n",
       "</table>\n",
       "<p>29697591 rows × 8 columns</p>\n",
       "</div>"
      ],
      "text/plain": [
       "                  x          y       z     i    r    g    b  label\n",
       "0         20.622999  40.276001  -1.999 -1031  127  141  154      0\n",
       "1         20.362000  40.375000  -2.239  -941  130  141  159      0\n",
       "2         20.360001  40.375999  -2.402 -1083  139  151  165      6\n",
       "3         20.374001  40.367001  -2.405 -1122  131  147  163      0\n",
       "4         20.372000  40.366001  -2.405 -1165  132  145  161      0\n",
       "...             ...        ...     ...   ...  ...  ...  ...    ...\n",
       "29697586  60.185001  82.120003  11.030 -1550   74   88  114      0\n",
       "29697587  60.042999  81.584000  11.039 -1539   84   90  124      0\n",
       "29697588  60.122002  81.777000  11.115 -1760  129  141  165      0\n",
       "29697589  60.088001  81.818001  11.054 -1625   90   96  128      0\n",
       "29697590  60.196999  82.137001  11.085 -1619  134  140  172      0\n",
       "\n",
       "[29697591 rows x 8 columns]"
      ]
     },
     "execution_count": 113,
     "metadata": {},
     "output_type": "execute_result"
    }
   ],
   "source": [
    "store.get('0')"
   ]
  },
  {
   "cell_type": "code",
   "execution_count": 114,
   "metadata": {},
   "outputs": [],
   "source": [
    "store.close()"
   ]
  },
  {
   "cell_type": "code",
   "execution_count": 120,
   "metadata": {},
   "outputs": [
    {
     "name": "stdout",
     "output_type": "stream",
     "text": [
      "                  x          y       z     i    r    g    b  label\n",
      "0         20.622999  40.276001  -1.999 -1031  127  141  154      0\n",
      "1         20.362000  40.375000  -2.239  -941  130  141  159      0\n",
      "2         20.360001  40.375999  -2.402 -1083  139  151  165      6\n",
      "3         20.374001  40.367001  -2.405 -1122  131  147  163      0\n",
      "4         20.372000  40.366001  -2.405 -1165  132  145  161      0\n",
      "...             ...        ...     ...   ...  ...  ...  ...    ...\n",
      "29697586  60.185001  82.120003  11.030 -1550   74   88  114      0\n",
      "29697587  60.042999  81.584000  11.039 -1539   84   90  124      0\n",
      "29697588  60.122002  81.777000  11.115 -1760  129  141  165      0\n",
      "29697589  60.088001  81.818001  11.054 -1625   90   96  128      0\n",
      "29697590  60.196999  82.137001  11.085 -1619  134  140  172      0\n",
      "\n",
      "[29697591 rows x 8 columns]\n"
     ]
    }
   ],
   "source": [
    "# contextual statement that closes store automatically afterwards\n",
    "with pd.HDFStore(hdf5_filepath, compression='lz4', mode='r') as store:\n",
    "    print(store.get('0'))"
   ]
  },
  {
   "cell_type": "code",
   "execution_count": 110,
   "metadata": {},
   "outputs": [
    {
     "data": {
      "text/plain": [
       "False"
      ]
     },
     "execution_count": 110,
     "metadata": {},
     "output_type": "execute_result"
    }
   ],
   "source": [
    "store.is_open"
   ]
  },
  {
   "cell_type": "code",
   "execution_count": 123,
   "metadata": {},
   "outputs": [
    {
     "data": {
      "text/html": [
       "<div>\n",
       "<style scoped>\n",
       "    .dataframe tbody tr th:only-of-type {\n",
       "        vertical-align: middle;\n",
       "    }\n",
       "\n",
       "    .dataframe tbody tr th {\n",
       "        vertical-align: top;\n",
       "    }\n",
       "\n",
       "    .dataframe thead th {\n",
       "        text-align: right;\n",
       "    }\n",
       "</style>\n",
       "<table border=\"1\" class=\"dataframe\">\n",
       "  <thead>\n",
       "    <tr style=\"text-align: right;\">\n",
       "      <th></th>\n",
       "      <th>x</th>\n",
       "      <th>y</th>\n",
       "      <th>z</th>\n",
       "      <th>i</th>\n",
       "      <th>r</th>\n",
       "      <th>g</th>\n",
       "      <th>b</th>\n",
       "    </tr>\n",
       "  </thead>\n",
       "  <tbody>\n",
       "    <tr>\n",
       "      <td>0</td>\n",
       "      <td>20.622999</td>\n",
       "      <td>40.276001</td>\n",
       "      <td>-1.999</td>\n",
       "      <td>-1031</td>\n",
       "      <td>127</td>\n",
       "      <td>141</td>\n",
       "      <td>154</td>\n",
       "    </tr>\n",
       "    <tr>\n",
       "      <td>1</td>\n",
       "      <td>20.362000</td>\n",
       "      <td>40.375000</td>\n",
       "      <td>-2.239</td>\n",
       "      <td>-941</td>\n",
       "      <td>130</td>\n",
       "      <td>141</td>\n",
       "      <td>159</td>\n",
       "    </tr>\n",
       "    <tr>\n",
       "      <td>2</td>\n",
       "      <td>20.360001</td>\n",
       "      <td>40.375999</td>\n",
       "      <td>-2.402</td>\n",
       "      <td>-1083</td>\n",
       "      <td>139</td>\n",
       "      <td>151</td>\n",
       "      <td>165</td>\n",
       "    </tr>\n",
       "    <tr>\n",
       "      <td>3</td>\n",
       "      <td>20.374001</td>\n",
       "      <td>40.367001</td>\n",
       "      <td>-2.405</td>\n",
       "      <td>-1122</td>\n",
       "      <td>131</td>\n",
       "      <td>147</td>\n",
       "      <td>163</td>\n",
       "    </tr>\n",
       "    <tr>\n",
       "      <td>4</td>\n",
       "      <td>20.372000</td>\n",
       "      <td>40.366001</td>\n",
       "      <td>-2.405</td>\n",
       "      <td>-1165</td>\n",
       "      <td>132</td>\n",
       "      <td>145</td>\n",
       "      <td>161</td>\n",
       "    </tr>\n",
       "    <tr>\n",
       "      <td>...</td>\n",
       "      <td>...</td>\n",
       "      <td>...</td>\n",
       "      <td>...</td>\n",
       "      <td>...</td>\n",
       "      <td>...</td>\n",
       "      <td>...</td>\n",
       "      <td>...</td>\n",
       "    </tr>\n",
       "    <tr>\n",
       "      <td>29697586</td>\n",
       "      <td>60.185001</td>\n",
       "      <td>82.120003</td>\n",
       "      <td>11.030</td>\n",
       "      <td>-1550</td>\n",
       "      <td>74</td>\n",
       "      <td>88</td>\n",
       "      <td>114</td>\n",
       "    </tr>\n",
       "    <tr>\n",
       "      <td>29697587</td>\n",
       "      <td>60.042999</td>\n",
       "      <td>81.584000</td>\n",
       "      <td>11.039</td>\n",
       "      <td>-1539</td>\n",
       "      <td>84</td>\n",
       "      <td>90</td>\n",
       "      <td>124</td>\n",
       "    </tr>\n",
       "    <tr>\n",
       "      <td>29697588</td>\n",
       "      <td>60.122002</td>\n",
       "      <td>81.777000</td>\n",
       "      <td>11.115</td>\n",
       "      <td>-1760</td>\n",
       "      <td>129</td>\n",
       "      <td>141</td>\n",
       "      <td>165</td>\n",
       "    </tr>\n",
       "    <tr>\n",
       "      <td>29697589</td>\n",
       "      <td>60.088001</td>\n",
       "      <td>81.818001</td>\n",
       "      <td>11.054</td>\n",
       "      <td>-1625</td>\n",
       "      <td>90</td>\n",
       "      <td>96</td>\n",
       "      <td>128</td>\n",
       "    </tr>\n",
       "    <tr>\n",
       "      <td>29697590</td>\n",
       "      <td>60.196999</td>\n",
       "      <td>82.137001</td>\n",
       "      <td>11.085</td>\n",
       "      <td>-1619</td>\n",
       "      <td>134</td>\n",
       "      <td>140</td>\n",
       "      <td>172</td>\n",
       "    </tr>\n",
       "  </tbody>\n",
       "</table>\n",
       "<p>29697591 rows × 7 columns</p>\n",
       "</div>"
      ],
      "text/plain": [
       "                  x          y       z     i    r    g    b\n",
       "0         20.622999  40.276001  -1.999 -1031  127  141  154\n",
       "1         20.362000  40.375000  -2.239  -941  130  141  159\n",
       "2         20.360001  40.375999  -2.402 -1083  139  151  165\n",
       "3         20.374001  40.367001  -2.405 -1122  131  147  163\n",
       "4         20.372000  40.366001  -2.405 -1165  132  145  161\n",
       "...             ...        ...     ...   ...  ...  ...  ...\n",
       "29697586  60.185001  82.120003  11.030 -1550   74   88  114\n",
       "29697587  60.042999  81.584000  11.039 -1539   84   90  124\n",
       "29697588  60.122002  81.777000  11.115 -1760  129  141  165\n",
       "29697589  60.088001  81.818001  11.054 -1625   90   96  128\n",
       "29697590  60.196999  82.137001  11.085 -1619  134  140  172\n",
       "\n",
       "[29697591 rows x 7 columns]"
      ]
     },
     "execution_count": 123,
     "metadata": {},
     "output_type": "execute_result"
    }
   ],
   "source": [
    "# %xdel\n",
    "# Remove first point cloud from list\n",
    "points.pop(0)"
   ]
  },
  {
   "cell_type": "code",
   "execution_count": 126,
   "metadata": {},
   "outputs": [
    {
     "data": {
      "text/html": [
       "<div>\n",
       "<style scoped>\n",
       "    .dataframe tbody tr th:only-of-type {\n",
       "        vertical-align: middle;\n",
       "    }\n",
       "\n",
       "    .dataframe tbody tr th {\n",
       "        vertical-align: top;\n",
       "    }\n",
       "\n",
       "    .dataframe thead th {\n",
       "        text-align: right;\n",
       "    }\n",
       "</style>\n",
       "<table border=\"1\" class=\"dataframe\">\n",
       "  <thead>\n",
       "    <tr style=\"text-align: right;\">\n",
       "      <th></th>\n",
       "      <th>x</th>\n",
       "      <th>y</th>\n",
       "      <th>z</th>\n",
       "      <th>i</th>\n",
       "      <th>r</th>\n",
       "      <th>g</th>\n",
       "      <th>b</th>\n",
       "    </tr>\n",
       "  </thead>\n",
       "  <tbody>\n",
       "    <tr>\n",
       "      <td>0</td>\n",
       "      <td>-0.003000</td>\n",
       "      <td>-31.752001</td>\n",
       "      <td>-2.618</td>\n",
       "      <td>-134</td>\n",
       "      <td>130</td>\n",
       "      <td>146</td>\n",
       "      <td>162</td>\n",
       "    </tr>\n",
       "    <tr>\n",
       "      <td>1</td>\n",
       "      <td>-0.001000</td>\n",
       "      <td>-31.756001</td>\n",
       "      <td>-2.807</td>\n",
       "      <td>-89</td>\n",
       "      <td>142</td>\n",
       "      <td>157</td>\n",
       "      <td>178</td>\n",
       "    </tr>\n",
       "    <tr>\n",
       "      <td>2</td>\n",
       "      <td>-0.002000</td>\n",
       "      <td>-31.759001</td>\n",
       "      <td>-2.899</td>\n",
       "      <td>-281</td>\n",
       "      <td>144</td>\n",
       "      <td>157</td>\n",
       "      <td>176</td>\n",
       "    </tr>\n",
       "    <tr>\n",
       "      <td>3</td>\n",
       "      <td>-0.002000</td>\n",
       "      <td>-31.759001</td>\n",
       "      <td>-2.902</td>\n",
       "      <td>-162</td>\n",
       "      <td>143</td>\n",
       "      <td>156</td>\n",
       "      <td>175</td>\n",
       "    </tr>\n",
       "    <tr>\n",
       "      <td>4</td>\n",
       "      <td>-0.003000</td>\n",
       "      <td>-31.759001</td>\n",
       "      <td>-2.902</td>\n",
       "      <td>-113</td>\n",
       "      <td>143</td>\n",
       "      <td>156</td>\n",
       "      <td>175</td>\n",
       "    </tr>\n",
       "    <tr>\n",
       "      <td>...</td>\n",
       "      <td>...</td>\n",
       "      <td>...</td>\n",
       "      <td>...</td>\n",
       "      <td>...</td>\n",
       "      <td>...</td>\n",
       "      <td>...</td>\n",
       "      <td>...</td>\n",
       "    </tr>\n",
       "    <tr>\n",
       "      <td>23995476</td>\n",
       "      <td>1.495000</td>\n",
       "      <td>134.324005</td>\n",
       "      <td>11.916</td>\n",
       "      <td>-1699</td>\n",
       "      <td>92</td>\n",
       "      <td>102</td>\n",
       "      <td>104</td>\n",
       "    </tr>\n",
       "    <tr>\n",
       "      <td>23995477</td>\n",
       "      <td>1.429000</td>\n",
       "      <td>134.479996</td>\n",
       "      <td>11.650</td>\n",
       "      <td>-1742</td>\n",
       "      <td>80</td>\n",
       "      <td>90</td>\n",
       "      <td>100</td>\n",
       "    </tr>\n",
       "    <tr>\n",
       "      <td>23995478</td>\n",
       "      <td>1.429000</td>\n",
       "      <td>134.438004</td>\n",
       "      <td>11.715</td>\n",
       "      <td>-1688</td>\n",
       "      <td>81</td>\n",
       "      <td>82</td>\n",
       "      <td>87</td>\n",
       "    </tr>\n",
       "    <tr>\n",
       "      <td>23995479</td>\n",
       "      <td>91.709999</td>\n",
       "      <td>147.619995</td>\n",
       "      <td>11.829</td>\n",
       "      <td>-1514</td>\n",
       "      <td>94</td>\n",
       "      <td>94</td>\n",
       "      <td>96</td>\n",
       "    </tr>\n",
       "    <tr>\n",
       "      <td>23995480</td>\n",
       "      <td>106.241997</td>\n",
       "      <td>148.647995</td>\n",
       "      <td>15.233</td>\n",
       "      <td>-1696</td>\n",
       "      <td>58</td>\n",
       "      <td>62</td>\n",
       "      <td>71</td>\n",
       "    </tr>\n",
       "  </tbody>\n",
       "</table>\n",
       "<p>23995481 rows × 7 columns</p>\n",
       "</div>"
      ],
      "text/plain": [
       "                   x           y       z     i    r    g    b\n",
       "0          -0.003000  -31.752001  -2.618  -134  130  146  162\n",
       "1          -0.001000  -31.756001  -2.807   -89  142  157  178\n",
       "2          -0.002000  -31.759001  -2.899  -281  144  157  176\n",
       "3          -0.002000  -31.759001  -2.902  -162  143  156  175\n",
       "4          -0.003000  -31.759001  -2.902  -113  143  156  175\n",
       "...              ...         ...     ...   ...  ...  ...  ...\n",
       "23995476    1.495000  134.324005  11.916 -1699   92  102  104\n",
       "23995477    1.429000  134.479996  11.650 -1742   80   90  100\n",
       "23995478    1.429000  134.438004  11.715 -1688   81   82   87\n",
       "23995479   91.709999  147.619995  11.829 -1514   94   94   96\n",
       "23995480  106.241997  148.647995  15.233 -1696   58   62   71\n",
       "\n",
       "[23995481 rows x 7 columns]"
      ]
     },
     "execution_count": 126,
     "metadata": {},
     "output_type": "execute_result"
    }
   ],
   "source": [
    "# Now the point cloud should be a different one\n",
    "points[0]"
   ]
  },
  {
   "cell_type": "code",
   "execution_count": 144,
   "metadata": {},
   "outputs": [
    {
     "name": "stdout",
     "output_type": "stream",
     "text": [
      "/media/add320/riccardo/data/train/labels/bildstein_station3_xyz_intensity_rgb.labels\n",
      "/media/add320/riccardo/data/train/labels/bildstein_station5_xyz_intensity_rgb.labels\n",
      "/media/add320/riccardo/data/train/labels/domfountain_station1_xyz_intensity_rgb.labels\n"
     ]
    }
   ],
   "source": [
    "labeled_clouds = []\n",
    "\n",
    "for i in range(0, 3):\n",
    "    lab_path = train_files[i+1] + '.labels'\n",
    "    #print(lab_path)\n",
    "    lab_inpath = os.path.join(train_path, 'labels', lab_path)\n",
    "    print(lab_inpath)\n",
    "    cloud_labels = read_labels(lab_inpath)\n",
    "    #print(cloud_labels)\n",
    "    # Append labels to point clouds\n",
    "    labeled_clouds.append(points[i].join(cloud_labels))"
   ]
  },
  {
   "cell_type": "code",
   "execution_count": 147,
   "metadata": {},
   "outputs": [
    {
     "data": {
      "text/html": [
       "<div>\n",
       "<style scoped>\n",
       "    .dataframe tbody tr th:only-of-type {\n",
       "        vertical-align: middle;\n",
       "    }\n",
       "\n",
       "    .dataframe tbody tr th {\n",
       "        vertical-align: top;\n",
       "    }\n",
       "\n",
       "    .dataframe thead th {\n",
       "        text-align: right;\n",
       "    }\n",
       "</style>\n",
       "<table border=\"1\" class=\"dataframe\">\n",
       "  <thead>\n",
       "    <tr style=\"text-align: right;\">\n",
       "      <th></th>\n",
       "      <th>x</th>\n",
       "      <th>y</th>\n",
       "      <th>z</th>\n",
       "      <th>i</th>\n",
       "      <th>r</th>\n",
       "      <th>g</th>\n",
       "      <th>b</th>\n",
       "      <th>label</th>\n",
       "    </tr>\n",
       "  </thead>\n",
       "  <tbody>\n",
       "    <tr>\n",
       "      <td>0</td>\n",
       "      <td>-22.586000</td>\n",
       "      <td>-72.367996</td>\n",
       "      <td>0.640</td>\n",
       "      <td>-1365</td>\n",
       "      <td>227</td>\n",
       "      <td>226</td>\n",
       "      <td>231</td>\n",
       "      <td>0</td>\n",
       "    </tr>\n",
       "    <tr>\n",
       "      <td>1</td>\n",
       "      <td>-22.580000</td>\n",
       "      <td>-72.500000</td>\n",
       "      <td>-0.009</td>\n",
       "      <td>-1353</td>\n",
       "      <td>82</td>\n",
       "      <td>87</td>\n",
       "      <td>107</td>\n",
       "      <td>0</td>\n",
       "    </tr>\n",
       "    <tr>\n",
       "      <td>2</td>\n",
       "      <td>-22.603001</td>\n",
       "      <td>-72.498001</td>\n",
       "      <td>-0.030</td>\n",
       "      <td>-1367</td>\n",
       "      <td>96</td>\n",
       "      <td>108</td>\n",
       "      <td>134</td>\n",
       "      <td>0</td>\n",
       "    </tr>\n",
       "    <tr>\n",
       "      <td>3</td>\n",
       "      <td>-22.511000</td>\n",
       "      <td>-72.496002</td>\n",
       "      <td>-0.050</td>\n",
       "      <td>-1349</td>\n",
       "      <td>85</td>\n",
       "      <td>82</td>\n",
       "      <td>91</td>\n",
       "      <td>0</td>\n",
       "    </tr>\n",
       "    <tr>\n",
       "      <td>4</td>\n",
       "      <td>-22.511999</td>\n",
       "      <td>-72.499001</td>\n",
       "      <td>-0.037</td>\n",
       "      <td>-1368</td>\n",
       "      <td>83</td>\n",
       "      <td>80</td>\n",
       "      <td>89</td>\n",
       "      <td>0</td>\n",
       "    </tr>\n",
       "    <tr>\n",
       "      <td>...</td>\n",
       "      <td>...</td>\n",
       "      <td>...</td>\n",
       "      <td>...</td>\n",
       "      <td>...</td>\n",
       "      <td>...</td>\n",
       "      <td>...</td>\n",
       "      <td>...</td>\n",
       "      <td>...</td>\n",
       "    </tr>\n",
       "    <tr>\n",
       "      <td>44990636</td>\n",
       "      <td>-3.107000</td>\n",
       "      <td>-6.774000</td>\n",
       "      <td>-0.343</td>\n",
       "      <td>-1575</td>\n",
       "      <td>220</td>\n",
       "      <td>220</td>\n",
       "      <td>222</td>\n",
       "      <td>0</td>\n",
       "    </tr>\n",
       "    <tr>\n",
       "      <td>44990637</td>\n",
       "      <td>-3.104000</td>\n",
       "      <td>-6.777000</td>\n",
       "      <td>-0.342</td>\n",
       "      <td>-1116</td>\n",
       "      <td>213</td>\n",
       "      <td>226</td>\n",
       "      <td>234</td>\n",
       "      <td>0</td>\n",
       "    </tr>\n",
       "    <tr>\n",
       "      <td>44990638</td>\n",
       "      <td>-3.103000</td>\n",
       "      <td>-6.775000</td>\n",
       "      <td>-0.343</td>\n",
       "      <td>-1213</td>\n",
       "      <td>217</td>\n",
       "      <td>226</td>\n",
       "      <td>235</td>\n",
       "      <td>0</td>\n",
       "    </tr>\n",
       "    <tr>\n",
       "      <td>44990639</td>\n",
       "      <td>-3.107000</td>\n",
       "      <td>-6.771000</td>\n",
       "      <td>-0.343</td>\n",
       "      <td>-1358</td>\n",
       "      <td>225</td>\n",
       "      <td>223</td>\n",
       "      <td>226</td>\n",
       "      <td>0</td>\n",
       "    </tr>\n",
       "    <tr>\n",
       "      <td>44990640</td>\n",
       "      <td>-3.118000</td>\n",
       "      <td>-6.769000</td>\n",
       "      <td>-0.327</td>\n",
       "      <td>-1697</td>\n",
       "      <td>223</td>\n",
       "      <td>222</td>\n",
       "      <td>227</td>\n",
       "      <td>0</td>\n",
       "    </tr>\n",
       "  </tbody>\n",
       "</table>\n",
       "<p>44990641 rows × 8 columns</p>\n",
       "</div>"
      ],
      "text/plain": [
       "                  x          y      z     i    r    g    b  label\n",
       "0        -22.586000 -72.367996  0.640 -1365  227  226  231      0\n",
       "1        -22.580000 -72.500000 -0.009 -1353   82   87  107      0\n",
       "2        -22.603001 -72.498001 -0.030 -1367   96  108  134      0\n",
       "3        -22.511000 -72.496002 -0.050 -1349   85   82   91      0\n",
       "4        -22.511999 -72.499001 -0.037 -1368   83   80   89      0\n",
       "...             ...        ...    ...   ...  ...  ...  ...    ...\n",
       "44990636  -3.107000  -6.774000 -0.343 -1575  220  220  222      0\n",
       "44990637  -3.104000  -6.777000 -0.342 -1116  213  226  234      0\n",
       "44990638  -3.103000  -6.775000 -0.343 -1213  217  226  235      0\n",
       "44990639  -3.107000  -6.771000 -0.343 -1358  225  223  226      0\n",
       "44990640  -3.118000  -6.769000 -0.327 -1697  223  222  227      0\n",
       "\n",
       "[44990641 rows x 8 columns]"
      ]
     },
     "execution_count": 147,
     "metadata": {},
     "output_type": "execute_result"
    }
   ],
   "source": [
    "labeled_clouds[2]"
   ]
  },
  {
   "cell_type": "code",
   "execution_count": 149,
   "metadata": {},
   "outputs": [
    {
     "name": "stdout",
     "output_type": "stream",
     "text": [
      "/media/add320/riccardo/data/hdf5/train/bildstein_station3_xyz_intensity_rgb.h5\n",
      "/media/add320/riccardo/data/hdf5/train/bildstein_station5_xyz_intensity_rgb.h5\n",
      "/media/add320/riccardo/data/hdf5/train/domfountain_station1_xyz_intensity_rgb.h5\n"
     ]
    }
   ],
   "source": [
    "# Save labeled cloud to its individual hdf5\n",
    "\n",
    "hdf5_path = os.path.join(data_path, 'hdf5')\n",
    "hdf5_train_path = os.path.join(hdf5_path, 'train')\n",
    "\n",
    "for i in range(0,3):\n",
    "    filename = train_files[i+1] + '.h5'\n",
    "    hdf5_filepath = os.path.join(hdf5_train_path, filename)\n",
    "    print(hdf5_filepath)\n",
    "    with pd.HDFStore(hdf5_filepath, mode='w', compression='lz4') as store:\n",
    "        store['0'] = labeled_clouds[i]\n",
    "        store.close()"
   ]
  },
  {
   "cell_type": "code",
   "execution_count": 151,
   "metadata": {},
   "outputs": [
    {
     "name": "stdout",
     "output_type": "stream",
     "text": [
      "                  x          y      z     i    r    g    b  label\n",
      "0        -11.121000  -0.116000  1.057  -699  102  112  124      0\n",
      "1        -11.252000  -0.064000  1.102  -576  113  122  137      0\n",
      "2        -11.251000  -0.064000  1.103  -556  113  122  137      0\n",
      "3        -11.255000  -0.063000  1.105  -646  111  120  135      0\n",
      "4        -11.252000  -0.064000  1.073  -678  108  117  132      0\n",
      "...             ...        ...    ...   ...  ...  ...  ...    ...\n",
      "24919493  32.007000  44.130001  3.714 -1489   64   72   85      0\n",
      "24919494  32.396999  44.622002  3.525 -1322   75   82   98      5\n",
      "24919495  32.373001  44.539001  3.516 -1334   71   81   93      0\n",
      "24919496  32.358002  44.568001  3.549 -1529   77   81   93      0\n",
      "24919497  32.443001  44.685001  3.503 -1376   78   91  107      5\n",
      "\n",
      "[24919498 rows x 8 columns]\n"
     ]
    }
   ],
   "source": [
    "# contextual statement that closes store automatically afterwards\n",
    "with pd.HDFStore('/media/add320/riccardo/data/hdf5/train/bildstein_station5_xyz_intensity_rgb.h5', compression='lz4', mode='r') as store:\n",
    "    print(store.get('0'))"
   ]
  },
  {
   "cell_type": "code",
   "execution_count": 181,
   "metadata": {},
   "outputs": [
    {
     "name": "stdout",
     "output_type": "stream",
     "text": [
      "                  x          y      z     i    r    g    b\n",
      "0        -22.586000 -72.367996  0.640 -1365  227  226  231\n",
      "1        -22.580000 -72.500000 -0.009 -1353   82   87  107\n",
      "2        -22.603001 -72.498001 -0.030 -1367   96  108  134\n",
      "3        -22.511000 -72.496002 -0.050 -1349   85   82   91\n",
      "4        -22.511999 -72.499001 -0.037 -1368   83   80   89\n",
      "...             ...        ...    ...   ...  ...  ...  ...\n",
      "44990636  -3.107000  -6.774000 -0.343 -1575  220  220  222\n",
      "44990637  -3.104000  -6.777000 -0.342 -1116  213  226  234\n",
      "44990638  -3.103000  -6.775000 -0.343 -1213  217  226  235\n",
      "44990639  -3.107000  -6.771000 -0.343 -1358  225  223  226\n",
      "44990640  -3.118000  -6.769000 -0.327 -1697  223  222  227\n",
      "\n",
      "[44990641 rows x 7 columns]\n"
     ]
    }
   ],
   "source": [
    "# Now the first four elements have been inserted in hdf5.\n",
    "\n",
    "x = points.pop(0)\n",
    "print(x)"
   ]
  },
  {
   "cell_type": "code",
   "execution_count": 187,
   "metadata": {},
   "outputs": [
    {
     "name": "stdout",
     "output_type": "stream",
     "text": [
      "/media/add320/riccardo/data/train/labels/domfountain_station2_xyz_intensity_rgb.labels\n",
      "/media/add320/riccardo/data/train/labels/domfountain_station3_xyz_intensity_rgb.labels\n",
      "/media/add320/riccardo/data/train/labels/neugasse_station1_xyz_intensity_rgb.labels\n"
     ]
    }
   ],
   "source": [
    "labeled_clouds = []\n",
    "\n",
    "for i in range(0, 3):\n",
    "    # increase 4 to 3 next time\n",
    "    lab_path = train_files[i+4] + '.labels'\n",
    "    lab_inpath = os.path.join(train_path, 'labels', lab_path)\n",
    "    print(lab_inpath)\n",
    "    cloud_labels = read_labels(lab_inpath)\n",
    "    #print(cloud_labels)\n",
    "    # Append labels to point clouds\n",
    "    labeled_clouds.append(points[i].join(cloud_labels))"
   ]
  },
  {
   "cell_type": "code",
   "execution_count": 188,
   "metadata": {},
   "outputs": [
    {
     "name": "stdout",
     "output_type": "stream",
     "text": [
      "/media/add320/riccardo/data/hdf5/train/domfountain_station2_xyz_intensity_rgb.h5\n",
      "/media/add320/riccardo/data/hdf5/train/domfountain_station3_xyz_intensity_rgb.h5\n",
      "/media/add320/riccardo/data/hdf5/train/neugasse_station1_xyz_intensity_rgb.h5\n"
     ]
    }
   ],
   "source": [
    "for i in range(0,3):\n",
    "    filename = train_files[i+4] + '.h5'\n",
    "    hdf5_filepath = os.path.join(hdf5_train_path, filename)\n",
    "    print(hdf5_filepath)\n",
    "    with pd.HDFStore(hdf5_filepath, mode='w', compression='lz4') as store:\n",
    "        store['0'] = labeled_clouds[i]\n",
    "        store.close()"
   ]
  },
  {
   "cell_type": "code",
   "execution_count": 11,
   "metadata": {},
   "outputs": [
    {
     "name": "stdout",
     "output_type": "stream",
     "text": [
      "                   x          y      z     i    r    g    b  label\n",
      "0           5.000000 -21.636999  0.013 -1073  110  120  129      5\n",
      "1           5.095000 -22.186001 -0.133    13  108  122  135      5\n",
      "2           5.484000 -23.875999 -0.143  -531  109  123  136      5\n",
      "3           5.482000 -23.875000 -0.141  -330   95  109  122      5\n",
      "4           5.482000 -23.878000 -0.142  -416  108  122  135      5\n",
      "...              ...        ...    ...   ...  ...  ...  ...    ...\n",
      "50122459  215.326004  40.641998  4.680 -1378   57   61   70      0\n",
      "50122460  215.322006  40.752998  4.947 -1421   58   72   81      0\n",
      "50122461  214.947006  40.013000  6.160 -1663   42   48   60      0\n",
      "50122462  249.878998  43.025002  8.261 -1714  112  118  132      7\n",
      "50122463  261.178986  39.595001  1.333 -1725   11   14   19      7\n",
      "\n",
      "[50122464 rows x 8 columns]\n"
     ]
    }
   ],
   "source": [
    "# contextual statement that closes store automatically afterwards\n",
    "with pd.HDFStore('/media/add320/riccardo/data/hdf5/train/neugasse_station1_xyz_intensity_rgb.h5', compression='lz4', mode='r') as store:\n",
    "    print(store.get('0'))"
   ]
  },
  {
   "cell_type": "code",
   "execution_count": 201,
   "metadata": {},
   "outputs": [
    {
     "name": "stdout",
     "output_type": "stream",
     "text": [
      "/media/add320/riccardo/data/train/labels/sg27_station1_intensity_rgb.labels\n",
      "/media/add320/riccardo/data/train/labels/sg27_station2_intensity_rgb.labels\n",
      "/media/add320/riccardo/data/train/labels/sg27_station4_intensity_rgb.labels\n"
     ]
    }
   ],
   "source": [
    "labeled_clouds = []\n",
    "\n",
    "for i in range(0, 3):\n",
    "    # increase 7 to 10 next time\n",
    "    # (it's always the number of clouds you already did)\n",
    "    lab_path = train_files[i+7] + '.labels'\n",
    "    lab_inpath = os.path.join(train_path, 'labels', lab_path)\n",
    "    print(lab_inpath)\n",
    "    cloud_labels = read_labels(lab_inpath)\n",
    "    #print(cloud_labels)\n",
    "    # Append labels to point clouds\n",
    "    labeled_clouds.append(points[i].join(cloud_labels))"
   ]
  },
  {
   "cell_type": "code",
   "execution_count": null,
   "metadata": {},
   "outputs": [
    {
     "name": "stdout",
     "output_type": "stream",
     "text": [
      "/media/add320/riccardo/data/hdf5/train/sg27_station1_intensity_rgb.h5\n"
     ]
    }
   ],
   "source": [
    "for i in range(0,3):\n",
    "    filename = train_files[i+7] + '.h5'\n",
    "    hdf5_filepath = os.path.join(hdf5_train_path, filename)\n",
    "    print(hdf5_filepath)\n",
    "    with pd.HDFStore(hdf5_filepath, mode='w', compression='lz4') as store:\n",
    "        store['0'] = labeled_clouds[i]\n",
    "        store.close()"
   ]
  },
  {
   "cell_type": "code",
   "execution_count": 14,
   "metadata": {},
   "outputs": [
    {
     "name": "stderr",
     "output_type": "stream",
     "text": [
      "  0%|          | 0/8 [00:00<?, ?it/s]"
     ]
    },
    {
     "name": "stdout",
     "output_type": "stream",
     "text": [
      "/media/add320/riccardo/data/train/sg27_station1_intensity_rgb/sg27_station1_intensity_rgb.txt\n"
     ]
    },
    {
     "name": "stderr",
     "output_type": "stream",
     "text": [
      " 12%|█▎        | 1/8 [02:44<19:09, 164.27s/it]"
     ]
    },
    {
     "name": "stdout",
     "output_type": "stream",
     "text": [
      "/media/add320/riccardo/data/train/sg27_station2_intensity_rgb/sg27_station2_intensity_rgb.txt\n"
     ]
    },
    {
     "name": "stderr",
     "output_type": "stream",
     "text": [
      " 25%|██▌       | 2/8 [06:57<19:04, 190.82s/it]"
     ]
    },
    {
     "name": "stdout",
     "output_type": "stream",
     "text": [
      "/media/add320/riccardo/data/train/sg27_station4_intensity_rgb/sg27_station4_intensity_rgb.txt\n"
     ]
    },
    {
     "name": "stderr",
     "output_type": "stream",
     "text": [
      " 38%|███▊      | 3/8 [09:23<14:48, 177.66s/it]"
     ]
    },
    {
     "name": "stdout",
     "output_type": "stream",
     "text": [
      "/media/add320/riccardo/data/train/sg27_station5_intensity_rgb/sg27_station5_intensity_rgb.txt\n"
     ]
    },
    {
     "name": "stderr",
     "output_type": "stream",
     "text": [
      " 50%|█████     | 4/8 [11:20<10:37, 159.40s/it]"
     ]
    },
    {
     "name": "stdout",
     "output_type": "stream",
     "text": [
      "/media/add320/riccardo/data/train/sg27_station9_intensity_rgb/sg27_station9_intensity_rgb.txt\n"
     ]
    },
    {
     "name": "stderr",
     "output_type": "stream",
     "text": [
      " 62%|██████▎   | 5/8 [13:21<07:23, 147.76s/it]"
     ]
    },
    {
     "name": "stdout",
     "output_type": "stream",
     "text": [
      "/media/add320/riccardo/data/train/sg28_station4_intensity_rgb/sg28_station4_intensity_rgb.txt\n"
     ]
    },
    {
     "name": "stderr",
     "output_type": "stream",
     "text": [
      " 75%|███████▌  | 6/8 [15:44<04:52, 146.38s/it]"
     ]
    },
    {
     "name": "stdout",
     "output_type": "stream",
     "text": [
      "/media/add320/riccardo/data/train/untermaederbrunnen_station1_xyz_intensity_rgb/untermaederbrunnen_station1_xyz_intensity_rgb.txt\n"
     ]
    },
    {
     "name": "stderr",
     "output_type": "stream",
     "text": [
      " 88%|████████▊ | 7/8 [16:00<01:47, 107.14s/it]"
     ]
    },
    {
     "name": "stdout",
     "output_type": "stream",
     "text": [
      "/media/add320/riccardo/data/train/untermaederbrunnen_station3_xyz_intensity_rgb/untermaederbrunnen_station3_xyz_intensity_rgb.txt\n"
     ]
    },
    {
     "name": "stderr",
     "output_type": "stream",
     "text": [
      "100%|██████████| 8/8 [16:15<00:00, 121.95s/it]"
     ]
    },
    {
     "name": "stdout",
     "output_type": "stream",
     "text": [
      "[                   x           y      z     i   r   g   b\n",
      "0         -61.247002  -33.708000  6.269  -498  79  61  57\n",
      "1         -61.245998  -33.708000  6.280  -520  79  60  56\n",
      "2         -61.243000  -33.706001  6.291  -532  77  60  57\n",
      "3         -62.174000  -35.758999  7.301 -1051  61  53  49\n",
      "4         -62.181999  -35.763000  7.313 -1390  61  53  49\n",
      "...              ...         ...    ...   ...  ..  ..  ..\n",
      "322088557   6.820000  104.003998  4.322  -735  24  18  20\n",
      "322088558   6.820000  104.003998  4.338  -927  24  18  20\n",
      "322088559   6.983000  104.000999  4.338 -1609  26  20  20\n",
      "322088560   6.968000  104.000999  4.322 -1227  17  13  12\n",
      "322088561   6.982000  104.000000  4.355 -1500  26  20  20\n",
      "\n",
      "[322088562 rows x 7 columns],                     x          y       z     i    r    g    b\n",
      "0          -79.001999  15.598000  10.773 -1709  152  126   99\n",
      "1         -101.685997  25.760000  15.934 -1111   32   22   21\n",
      "2         -101.842003  25.563999  15.966 -1279  131  102   84\n",
      "3         -100.772003  19.358000  15.901 -1583   49   30   26\n",
      "4         -100.899002  19.025999  15.927 -1099  140  114   87\n",
      "...               ...        ...     ...   ...  ...  ...  ...\n",
      "496702856   42.522999  94.654999   2.515  -939  145  112  118\n",
      "496702857   42.537998  94.648003   2.515  -966  153  122  128\n",
      "496702858   42.554001  94.646004   2.516 -1101  151  121  125\n",
      "496702859   42.539001  94.650002   2.532 -1263  143  111  117\n",
      "496702860   42.551998  94.640999   2.531 -1479  140  108  113\n",
      "\n",
      "[496702861 rows x 7 columns],                    x          y      z     i    r    g    b\n",
      "0          20.997000 -16.013000 -0.002 -1650  136  116  132\n",
      "1         -97.017998  -0.088000 -0.003  -601   64   39   42\n",
      "2         -97.032997  -0.071000 -0.004  -577   64   39   42\n",
      "3         -89.455002 -85.585999 -7.249 -1538  254  228  190\n",
      "4         -84.884003 -81.696999 -6.917 -1123  251  227  190\n",
      "...              ...        ...    ...   ...  ...  ...  ...\n",
      "280994771  29.462999  68.362999  2.390 -1752   38   27   25\n",
      "280994772  28.959000  65.066002  4.480 -1329   39   28   24\n",
      "280994773  28.947001  65.066002  4.479 -1408   41   30   26\n",
      "280994774  28.981001  65.113998  4.472 -1270   39   28   24\n",
      "280994775  28.966999  65.112999  4.472 -1475   41   30   26\n",
      "\n",
      "[280994776 rows x 7 columns],                    x          y      z     i    r    g    b\n",
      "0          20.785999 -17.813000 -2.173 -1624  226  181  184\n",
      "1         -73.064003 -61.097000 -0.105 -1329   26   18   18\n",
      "2         -73.012001 -61.091999 -0.090 -1464   30   25   26\n",
      "3         -73.500000 -83.971001 -2.612 -1414  171  141  151\n",
      "4         -73.498001 -83.969002 -2.542  -971  184  153  161\n",
      "...              ...        ...    ...   ...  ...  ...  ...\n",
      "218272129  58.000000  97.755997  3.083 -1159   21   15   15\n",
      "218272130  58.009998  97.773003  3.066 -1355   23   17   17\n",
      "218272131  58.084999  97.900002  3.017 -1254   27   18   19\n",
      "218272132  58.158001  97.883003  3.018  -957   30   22   22\n",
      "218272133  58.141998  97.891998  3.018  -891   29   21   22\n",
      "\n",
      "[218272134 rows x 7 columns],                     x           y      z     i   r   g   b\n",
      "0           22.222000  -19.669001 -0.110 -1963  10   9  13\n",
      "1         -107.128998  -19.455000 -0.577  -998  58  46  44\n",
      "2         -107.152000  -19.441999 -0.578  -907  58  45  44\n",
      "3           -2.594000  -81.151001 -0.757 -1693  70  64  70\n",
      "4          -39.202000 -100.605003 -0.006  -987  50  46  51\n",
      "...               ...         ...    ...   ...  ..  ..  ..\n",
      "222908907   70.433998   96.712997  8.264  -873  57  44  38\n",
      "222908908   70.442001   96.692001  8.281  -982  61  48  42\n",
      "222908909   70.444000   96.695000  8.262  -909  57  44  38\n",
      "222908910   70.421997   96.695000  8.318 -1570  60  47  41\n",
      "222908911   70.004997   97.652000  8.769 -1268  41  27  24\n",
      "\n",
      "[222908912 rows x 7 columns],                    x           y      z     i    r    g    b\n",
      "0          20.764000  -17.844000 -1.985 -1615  239  209  221\n",
      "1          -9.202000   -0.023000 -0.816 -1132  114   89   68\n",
      "2          -9.198000   -0.025000 -0.815 -1183  102   77   56\n",
      "3          -9.200000   -0.026000 -0.817 -1275   98   75   54\n",
      "4          -9.200000   -0.025000 -0.820 -1173  104   82   63\n",
      "...              ...         ...    ...   ...  ...  ...  ...\n",
      "258720943  54.626999  108.795998  0.145 -1555   41   39   43\n",
      "258720944  54.665001  108.781998  0.126 -1555   43   39   43\n",
      "258720945  54.696999  108.757004  0.184 -1404   39   34   37\n",
      "258720946  54.701000  108.763000  0.146 -1442   47   41   45\n",
      "258720947  54.698002  108.759003  0.165 -1442   39   34   37\n",
      "\n",
      "[258720948 rows x 7 columns],                    x          y      z     i    r    g    b\n",
      "0          17.834999  -1.195000 -1.742 -1836  168  184  195\n",
      "1          17.813000  -1.199000 -1.740 -1816  173  189  202\n",
      "2          15.841000  -1.067000 -1.720 -1964  168  190  203\n",
      "3          14.674000  -1.252000 -1.270  -877   78   85   92\n",
      "4          14.499000  -1.092000 -1.697 -1138   96   98  103\n",
      "...              ...        ...    ...   ...  ...  ...  ...\n",
      "27977424  115.164001  32.209999  1.795 -1649  113  132  146\n",
      "27977425  116.575996  32.448002  1.741 -1824  109  127  139\n",
      "27977426  116.542000  32.438999  1.817 -1824   99  115  128\n",
      "27977427  112.857002  32.096001  4.328 -1777   96  106  116\n",
      "27977428  112.865997  32.021999  4.327 -1318  100  104  115\n",
      "\n",
      "[27977429 rows x 7 columns],                x          y      z     i    r    g    b\n",
      "0        -12.345 -20.065001 -1.481  -876  107  114  107\n",
      "1        -12.347 -20.069000 -1.478  -866  106  112  107\n",
      "2        -12.345 -20.063999 -1.474  -778  105  111  105\n",
      "3        -12.344 -20.063000 -1.510 -1068  107  115  110\n",
      "4        -12.312 -20.004000 -1.809 -1674   76   83   82\n",
      "...          ...        ...    ...   ...  ...  ...  ...\n",
      "28059314  11.003  18.820000  2.649 -2027   23   23   25\n",
      "28059315  11.252  18.759001  2.574 -2021   21   22   27\n",
      "28059316  11.253  18.761000  2.547 -2014   21   22   26\n",
      "28059317  11.255  18.763000  2.533 -2011   21   22   26\n",
      "28059318  11.259  18.771000  2.521 -2014   21   22   27\n",
      "\n",
      "[28059319 rows x 7 columns]]\n"
     ]
    },
    {
     "name": "stderr",
     "output_type": "stream",
     "text": [
      "\n"
     ]
    }
   ],
   "source": [
    "points = []\n",
    "from tqdm import tqdm\n",
    "\n",
    "\n",
    "for i in tqdm(range(7, 10)):\n",
    "    f_ext = train_files[i] + '.txt'\n",
    "    inpath = os.path.join(train_path, train_files[i], f_ext)\n",
    "    print(inpath)\n",
    "    points.append(read_points(inpath))\n",
    "    \n",
    "print(points)"
   ]
  },
  {
   "cell_type": "code",
   "execution_count": 20,
   "metadata": {},
   "outputs": [
    {
     "name": "stdout",
     "output_type": "stream",
     "text": [
      "/media/add320/riccardo/data/train/labels/sg27_station1_intensity_rgb.labels\n",
      "/media/add320/riccardo/data/train/labels/sg27_station2_intensity_rgb.labels\n",
      "/media/add320/riccardo/data/train/labels/sg27_station4_intensity_rgb.labels\n"
     ]
    }
   ],
   "source": [
    "labeled_clouds = []\n",
    "\n",
    "for i in range(0, 3):\n",
    "    # increase 7 to 10 next time\n",
    "    # (it's always the number of clouds you already did)\n",
    "    lab_path = train_files[i+7] + '.labels'\n",
    "    lab_inpath = os.path.join(train_path, 'labels', lab_path)\n",
    "    print(lab_inpath)\n",
    "    cloud_labels = read_labels(lab_inpath)\n",
    "    # Append labels to point clouds\n",
    "    labeled_clouds.append(points[i].join(cloud_labels))"
   ]
  },
  {
   "cell_type": "code",
   "execution_count": null,
   "metadata": {},
   "outputs": [
    {
     "name": "stdout",
     "output_type": "stream",
     "text": [
      "/media/add320/riccardo/data/hdf5/train/sg27_station1_intensity_rgb.h5\n"
     ]
    }
   ],
   "source": [
    "# Save labeled cloud to its individual hdf5\n",
    "hdf5_path = os.path.join(data_path, 'hdf5')\n",
    "hdf5_train_path = os.path.join(hdf5_path, 'train')\n",
    "\n",
    "for i in range(0,3):\n",
    "    filename = train_files[i+7] + '.h5'\n",
    "    hdf5_filepath = os.path.join(hdf5_train_path, filename)\n",
    "    print(hdf5_filepath)\n",
    "    with pd.HDFStore(hdf5_filepath, mode='w', compression='lz4') as store:\n",
    "        store['0'] = labeled_clouds[i]\n",
    "        store.close()"
   ]
  },
  {
   "cell_type": "code",
   "execution_count": 33,
   "metadata": {},
   "outputs": [
    {
     "name": "stderr",
     "output_type": "stream",
     "text": [
      "  0%|          | 0/3 [00:00<?, ?it/s]"
     ]
    },
    {
     "name": "stdout",
     "output_type": "stream",
     "text": [
      "/media/add320/riccardo/data/train/sg28_station4_intensity_rgb/sg28_station4_intensity_rgb.txt\n",
      "/media/add320/riccardo/data/train/labels/sg28_station4_intensity_rgb.labels\n",
      "/media/add320/riccardo/data/hdf5/train/sg28_station4_intensity_rgb.h5\n"
     ]
    },
    {
     "name": "stderr",
     "output_type": "stream",
     "text": [
      " 33%|███▎      | 1/3 [02:43<05:26, 163.35s/it]"
     ]
    },
    {
     "name": "stdout",
     "output_type": "stream",
     "text": [
      "/media/add320/riccardo/data/train/untermaederbrunnen_station1_xyz_intensity_rgb/untermaederbrunnen_station1_xyz_intensity_rgb.txt\n",
      "/media/add320/riccardo/data/train/labels/untermaederbrunnen_station1_xyz_intensity_rgb.labels\n",
      "/media/add320/riccardo/data/hdf5/train/untermaederbrunnen_station1_xyz_intensity_rgb.h5\n"
     ]
    },
    {
     "name": "stderr",
     "output_type": "stream",
     "text": [
      " 67%|██████▋   | 2/3 [04:32<02:27, 147.01s/it]"
     ]
    },
    {
     "name": "stdout",
     "output_type": "stream",
     "text": [
      "/media/add320/riccardo/data/train/untermaederbrunnen_station3_xyz_intensity_rgb/untermaederbrunnen_station3_xyz_intensity_rgb.txt\n",
      "/media/add320/riccardo/data/train/labels/untermaederbrunnen_station3_xyz_intensity_rgb.labels\n",
      "/media/add320/riccardo/data/hdf5/train/untermaederbrunnen_station3_xyz_intensity_rgb.h5\n"
     ]
    },
    {
     "name": "stderr",
     "output_type": "stream",
     "text": [
      "100%|██████████| 3/3 [04:49<00:00, 96.62s/it] "
     ]
    },
    {
     "name": "stdout",
     "output_type": "stream",
     "text": [
      "dun\n"
     ]
    },
    {
     "name": "stderr",
     "output_type": "stream",
     "text": [
      "\n"
     ]
    }
   ],
   "source": [
    "# Save labeled cloud to its individual hdf5\n",
    "hdf5_path = os.path.join(data_path, 'hdf5')\n",
    "hdf5_train_path = os.path.join(hdf5_path, 'train')\n",
    "\n",
    "from tqdm import tqdm\n",
    "\n",
    "# (it's always the number of clouds you already did)\n",
    "# INCREASE 8,9 TO 9,10, REPEAT, ETC.\n",
    "for i in tqdm(range(12, 15)):\n",
    "    \n",
    "    # Read point cloud\n",
    "    f_ext = train_files[i] + '.txt'\n",
    "    inpath = os.path.join(train_path, train_files[i], f_ext)\n",
    "    print(inpath)\n",
    "    point_cloud = read_points(inpath)\n",
    "    \n",
    "    # Read labels of that point cloud and append it\n",
    "    lab_path = train_files[i] + '.labels'\n",
    "    lab_inpath = os.path.join(train_path, 'labels', lab_path)\n",
    "    print(lab_inpath)\n",
    "    cloud_labels = read_labels(lab_inpath)\n",
    "    # Append labels to point clouds\n",
    "    labeled_cloud = point_cloud.join(cloud_labels)\n",
    "    \n",
    "    # Write to h5\n",
    "    filename = train_files[i] + '.h5'\n",
    "    hdf5_filepath = os.path.join(hdf5_train_path, filename)\n",
    "    print(hdf5_filepath)\n",
    "    with pd.HDFStore(hdf5_filepath, mode='w', compression='lz4') as store:\n",
    "        store['0'] = labeled_cloud\n",
    "        store.close() # not needed, it closes automatically because of the with statement\n",
    "    \n",
    "#print(points)\n",
    "print('dun')"
   ]
  },
  {
   "cell_type": "code",
   "execution_count": 42,
   "metadata": {},
   "outputs": [
    {
     "name": "stdout",
     "output_type": "stream",
     "text": [
      "                   x           y      z     i    r    g    b  label\n",
      "0          20.764000  -17.844000 -1.985 -1615  239  209  221      1\n",
      "1          -9.202000   -0.023000 -0.816 -1132  114   89   68      4\n",
      "2          -9.198000   -0.025000 -0.815 -1183  102   77   56      4\n",
      "3          -9.200000   -0.026000 -0.817 -1275   98   75   54      4\n",
      "4          -9.200000   -0.025000 -0.820 -1173  104   82   63      4\n",
      "...              ...         ...    ...   ...  ...  ...  ...    ...\n",
      "258720943  54.626999  108.795998  0.145 -1555   41   39   43      0\n",
      "258720944  54.665001  108.781998  0.126 -1555   43   39   43      0\n",
      "258720945  54.696999  108.757004  0.184 -1404   39   34   37      0\n",
      "258720946  54.701000  108.763000  0.146 -1442   47   41   45      0\n",
      "258720947  54.698002  108.759003  0.165 -1442   39   34   37      0\n",
      "\n",
      "[258720948 rows x 8 columns]\n"
     ]
    }
   ],
   "source": [
    "# contextual statement that closes store automatically afterwards\n",
    "with pd.HDFStore('/media/add320/riccardo/data/hdf5/train/sg28_station4_intensity_rgb.h5', compression='lz4', mode='r') as store:\n",
    "    print(store.get('0'))"
   ]
  }
 ],
 "metadata": {
  "kernelspec": {
   "display_name": "Python 3",
   "language": "python",
   "name": "python3"
  },
  "language_info": {
   "codemirror_mode": {
    "name": "ipython",
    "version": 3
   },
   "file_extension": ".py",
   "mimetype": "text/x-python",
   "name": "python",
   "nbconvert_exporter": "python",
   "pygments_lexer": "ipython3",
   "version": "3.8.1"
  }
 },
 "nbformat": 4,
 "nbformat_minor": 4
}
